{
  "cells": [
    {
      "cell_type": "code",
      "execution_count": 1,
      "metadata": {
        "id": "4JRsdwQBrK9Q"
      },
      "outputs": [],
      "source": [
        "# SETUP CODE\n",
        "!apt-get install openjdk-8-jdk-headless -qq > /dev/null\n",
        "!wget -q http://archive.apache.org/dist/spark/spark-3.1.1/spark-3.1.1-bin-hadoop3.2.tgz\n",
        "!tar xf spark-3.1.1-bin-hadoop3.2.tgz\n",
        "!pip install -q findspark"
      ]
    },
    {
      "cell_type": "code",
      "execution_count": 2,
      "metadata": {
        "id": "IEv-xC7SrXPk"
      },
      "outputs": [],
      "source": [
        "# SETUP CODE\n",
        "import os\n",
        "os.environ[\"JAVA_HOME\"] = \"/usr/lib/jvm/java-8-openjdk-amd64\"\n",
        "os.environ[\"SPARK_HOME\"] = \"/content/spark-3.1.1-bin-hadoop3.2\""
      ]
    },
    {
      "cell_type": "code",
      "execution_count": 3,
      "metadata": {
        "id": "ziSzm8YxrbSw"
      },
      "outputs": [],
      "source": [
        "# SETUP CODE\n",
        "import findspark\n",
        "findspark.init()\n",
        "from pyspark.sql import SparkSession\n",
        "spark = SparkSession.builder.master(\"local[*]\").getOrCreate()\n",
        "spark.conf.set(\"spark.sql.repl.eagerEval.enabled\", True) # Property used to format output tables better\n",
        "spark\n",
        "sc = spark.sparkContext"
      ]
    },
    {
      "cell_type": "code",
      "execution_count": 4,
      "metadata": {
        "colab": {
          "base_uri": "https://localhost:8080/"
        },
        "id": "oHnaKL83Hpmu",
        "outputId": "22227ff2-56e8-4af3-8443-3b2bbec4250a"
      },
      "outputs": [
        {
          "name": "stdout",
          "output_type": "stream",
          "text": [
            "Mounted at /content/drive\n"
          ]
        }
      ],
      "source": [
        "# MOUNT Google Drive\n",
        "from google.colab import drive\n",
        "drive.mount('/content/drive')"
      ]
    },
    {
      "cell_type": "code",
      "execution_count": 17,
      "metadata": {
        "colab": {
          "base_uri": "https://localhost:8080/"
        },
        "id": "_DnjmJp1WUJ2",
        "outputId": "6b7faba6-b3d8-482b-ae2e-addc2fb097b3"
      },
      "outputs": [
        {
          "name": "stdout",
          "output_type": "stream",
          "text": [
            "/content/drive/MyDrive/csvdata/detail_record_2017_01_02_08_00_00,/content/drive/MyDrive/csvdata/detail_record_2017_01_03_08_00_00,/content/drive/MyDrive/csvdata/detail_record_2017_01_04_08_00_00,/content/drive/MyDrive/csvdata/detail_record_2017_01_05_08_00_00,/content/drive/MyDrive/csvdata/detail_record_2017_01_06_08_00_00,/content/drive/MyDrive/csvdata/detail_record_2017_01_07_08_00_00,/content/drive/MyDrive/csvdata/detail_record_2017_01_08_08_00_00,/content/drive/MyDrive/csvdata/detail_record_2017_01_09_08_00_00,/content/drive/MyDrive/csvdata/detail_record_2017_01_10_08_00_00,/content/drive/MyDrive/csvdata/detail_record_2017_01_11_08_00_00 MapPartitionsRDD[41] at textFile at NativeMethodAccessorImpl.java:0\n"
          ]
        }
      ],
      "source": [
        "# LOAD data\n",
        "from pyspark import SparkContext, SQLContext, Row\n",
        "from pyspark.sql.types import *\n",
        "from pyspark.sql.functions import lit\n",
        "sqlContext = SQLContext(sc)\n",
        "\n",
        "#put data in a folder call csvdata\n",
        "data1 = \"/content/drive/MyDrive/csvdata/detail_record_2017_01_02_08_00_00\"\n",
        "data2 = \"/content/drive/MyDrive/csvdata/detail_record_2017_01_03_08_00_00\"\n",
        "data3 = \"/content/drive/MyDrive/csvdata/detail_record_2017_01_04_08_00_00\"\n",
        "data4 = \"/content/drive/MyDrive/csvdata/detail_record_2017_01_05_08_00_00\"\n",
        "data5 = \"/content/drive/MyDrive/csvdata/detail_record_2017_01_06_08_00_00\"\n",
        "data6 = \"/content/drive/MyDrive/csvdata/detail_record_2017_01_07_08_00_00\"\n",
        "data7 = \"/content/drive/MyDrive/csvdata/detail_record_2017_01_08_08_00_00\"\n",
        "data8 = \"/content/drive/MyDrive/csvdata/detail_record_2017_01_09_08_00_00\"\n",
        "data9 = \"/content/drive/MyDrive/csvdata/detail_record_2017_01_10_08_00_00\"\n",
        "data10 = \"/content/drive/MyDrive/csvdata/detail_record_2017_01_11_08_00_00\"\n",
        "\n",
        "out = \"/content/drive/MyDrive/csvdata/output\"\n",
        "\n",
        "text_file = sc.textFile(data1 +\",\"+ data2+\",\"+ data3+\",\"+ data4+\",\"+ data5+\",\"+ data6+\",\"+ data7+\",\"+ data8+\",\"+ data9+\",\"+data10)\n",
        "print(text_file)"
      ]
    },
    {
      "cell_type": "code",
      "execution_count": 13,
      "metadata": {
        "id": "4lqy5WquWwf4"
      },
      "outputs": [],
      "source": [
        "counts = text_file.map(lambda line: line.split(\",\")).filter(lambda line: len(line)>8)\n",
        "column_data = counts.map(lambda p: Row(p[0], p[1], p[2], p[3], p[4], \\\n",
        "                      p[5], p[6], p[7], p[8], p[9] , \\\n",
        "                      p[10], p[11], p[12], p[13], p[14], \\\n",
        "                      p[15], p[16], p[17], p[18]))\n",
        "\n",
        "column_name = \"driverID,carPlateNumber,Latitude,Longitude,Speed,Direction,siteName,Time,isRapidlySpeedup,isRapidlySlowdown,isNeutralSlide,isNeutralSlideFinished,neutralSlideTime,isOverspeed,isOverspeedFinished,overspeedTime,isFatigueDriving,isHthrottleStop,isOilLeak\"\n",
        "sql = \"SELECT first(driverID),first(carPlateNumber),first(Time) \\\n",
        "                              as recordDAY,HOUR(Time) as recordHOUR,\\\n",
        "                              sum(isRapidlySpeedup),sum(isRapidlySlowdown),sum(isNeutralSlide),sum(isNeutralSlideFinished),\\\n",
        "                              sum(neutralSlideTime),sum(isOverspeed),sum(isOverspeedFinished),sum(overspeedTime),sum(isFatigueDriving),\\\n",
        "                              sum(isHthrottleStop),sum(isOilLeak) \\\n",
        "                              FROM summary \\\n",
        "                              GROUP BY driverID,DAY(Time),HOUR(Time)\"\n",
        "fields = [StructField(field_name, StringType(), True) for field_name in column_name.split(\",\")]\n",
        "schema = StructType(fields)\n"
      ]
    },
    {
      "cell_type": "code",
      "execution_count": 14,
      "metadata": {
        "colab": {
          "base_uri": "https://localhost:8080/",
          "height": 876
        },
        "id": "ynWddqeVXfyg",
        "outputId": "ec4d955a-82bf-4b90-f614-2c8aaa4ec9c6"
      },
      "outputs": [
        {
          "data": {
            "text/html": [
              "<table border='1'>\n",
              "<tr><th>driverID</th><th>carPlateNumber</th><th>Latitude</th><th>Longitude</th><th>Speed</th><th>Direction</th><th>siteName</th><th>Time</th><th>isRapidlySpeedup</th><th>isRapidlySlowdown</th><th>isNeutralSlide</th><th>isNeutralSlideFinished</th><th>neutralSlideTime</th><th>isOverspeed</th><th>isOverspeedFinished</th><th>overspeedTime</th><th>isFatigueDriving</th><th>isHthrottleStop</th><th>isOilLeak</th></tr>\n",
              "<tr><td>likun1000003</td><td>华AVM936</td><td>32.056444</td><td>118.777589</td><td>72</td><td>211</td><td></td><td>2017-01-01 08:00:05</td><td></td><td></td><td></td><td></td><td></td><td></td><td></td><td></td><td>1</td><td></td><td></td></tr>\n",
              "<tr><td>haowei1000008</td><td>华A709GB</td><td>30.6786</td><td>104.070835</td><td>143</td><td>115</td><td></td><td>2017-01-01 08:00:08</td><td></td><td></td><td></td><td></td><td></td><td>1</td><td></td><td></td><td></td><td></td><td></td></tr>\n",
              "<tr><td>haowei1000008</td><td>华A709GB</td><td>30.6786</td><td>104.070835</td><td>120</td><td>115</td><td></td><td>2017-01-01 08:00:08</td><td></td><td></td><td></td><td></td><td></td><td></td><td>1</td><td>0</td><td></td><td></td><td></td></tr>\n",
              "<tr><td>zouan1000007</td><td>华A58M83</td><td>28.210856</td><td>112.979521</td><td>139</td><td>177</td><td></td><td>2017-01-01 08:00:12</td><td></td><td></td><td></td><td></td><td></td><td>1</td><td></td><td></td><td></td><td></td><td></td></tr>\n",
              "<tr><td>duxu1000009</td><td>华AT75H8</td><td>38.500677</td><td>106.210269</td><td>137</td><td>118</td><td></td><td>2017-01-01 08:00:13</td><td></td><td></td><td></td><td></td><td></td><td>1</td><td></td><td></td><td></td><td></td><td></td></tr>\n",
              "<tr><td>duxu1000009</td><td>华AT75H8</td><td>38.500517</td><td>106.210581</td><td>120</td><td>118</td><td></td><td>2017-01-01 08:00:14</td><td></td><td></td><td></td><td></td><td></td><td></td><td>1</td><td>1</td><td></td><td></td><td></td></tr>\n",
              "<tr><td>zouan1000007</td><td>华A58M83</td><td>28.207153</td><td>112.97976</td><td>131</td><td>177</td><td></td><td>2017-01-01 08:00:24</td><td></td><td>1</td><td></td><td></td><td></td><td></td><td></td><td></td><td></td><td></td><td></td></tr>\n",
              "<tr><td>haowei1000008</td><td>华A709GB</td><td>30.675895</td><td>104.076702</td><td>130</td><td>115</td><td></td><td>2017-01-01 08:00:29</td><td></td><td></td><td></td><td></td><td></td><td>1</td><td></td><td></td><td></td><td></td><td></td></tr>\n",
              "<tr><td>haowei1000008</td><td>华A709GB</td><td>30.675895</td><td>104.076702</td><td>120</td><td>115</td><td></td><td>2017-01-01 08:00:29</td><td></td><td></td><td></td><td></td><td></td><td></td><td>1</td><td>0</td><td></td><td></td><td></td></tr>\n",
              "<tr><td>duxu1000009</td><td>华AT75H8</td><td>38.498514</td><td>106.214488</td><td>105</td><td>118</td><td></td><td>2017-01-01 08:00:29</td><td></td><td></td><td></td><td></td><td></td><td></td><td></td><td></td><td></td><td>1</td><td></td></tr>\n",
              "<tr><td>hanhui1000002</td><td>华AZI419</td><td>28.221289</td><td>112.98163</td><td>62</td><td>16</td><td></td><td>2017-01-01 08:00:32</td><td>1</td><td></td><td></td><td></td><td></td><td></td><td></td><td></td><td></td><td></td><td></td></tr>\n",
              "<tr><td>panxian1000005</td><td>华AX542C</td><td>23.127264</td><td>113.307184</td><td>94</td><td>357</td><td></td><td>2017-01-01 08:00:33</td><td></td><td></td><td></td><td></td><td></td><td></td><td></td><td></td><td>1</td><td></td><td></td></tr>\n",
              "<tr><td>hanhui1000002</td><td>华AZI419</td><td>28.222767</td><td>112.982061</td><td>121</td><td>16</td><td></td><td>2017-01-01 08:00:37</td><td></td><td></td><td></td><td></td><td></td><td>1</td><td></td><td></td><td></td><td></td><td></td></tr>\n",
              "<tr><td>hanhui1000002</td><td>华AZI419</td><td>28.224605</td><td>112.982597</td><td>120</td><td>16</td><td></td><td>2017-01-01 08:00:43</td><td></td><td></td><td></td><td></td><td></td><td></td><td>1</td><td>6</td><td></td><td></td><td></td></tr>\n",
              "<tr><td>zouan1000007</td><td>华A58M83</td><td>28.200475</td><td>112.980191</td><td>120</td><td>177</td><td></td><td>2017-01-01 08:00:45</td><td></td><td></td><td></td><td></td><td></td><td></td><td>1</td><td>33</td><td></td><td></td><td></td></tr>\n",
              "<tr><td>panxian1000005</td><td>华AX542C</td><td>23.132181</td><td>113.306867</td><td>103</td><td>357</td><td></td><td>2017-01-01 08:00:55</td><td></td><td></td><td></td><td></td><td></td><td></td><td></td><td></td><td></td><td></td><td>1</td></tr>\n",
              "<tr><td>zouan1000007</td><td>华A58M83</td><td>28.196079</td><td>112.980474</td><td>139</td><td>177</td><td></td><td>2017-01-01 08:01:03</td><td></td><td></td><td></td><td></td><td></td><td>1</td><td></td><td></td><td></td><td></td><td></td></tr>\n",
              "<tr><td>shenxian1000004</td><td>华ADJ750</td><td>30.693879</td><td>104.062545</td><td>95</td><td>339</td><td></td><td>2017-01-01 08:01:04</td><td>1</td><td></td><td></td><td></td><td></td><td></td><td></td><td></td><td></td><td></td><td></td></tr>\n",
              "<tr><td>hanhui1000002</td><td>华AZI419</td><td>28.228417</td><td>112.983708</td><td>66</td><td>16</td><td></td><td>2017-01-01 08:01:05</td><td></td><td>1</td><td></td><td></td><td></td><td></td><td></td><td></td><td></td><td></td><td></td></tr>\n",
              "<tr><td>hanhui1000002</td><td>华AZI419</td><td>28.228705</td><td>112.983793</td><td>119</td><td>16</td><td></td><td>2017-01-01 08:01:06</td><td></td><td>1</td><td></td><td></td><td></td><td></td><td></td><td></td><td></td><td></td><td></td></tr>\n",
              "</table>\n",
              "only showing top 20 rows\n"
            ],
            "text/plain": [
              "+---------------+--------------+---------+----------+-----+---------+--------+-------------------+----------------+-----------------+--------------+----------------------+----------------+-----------+-------------------+-------------+----------------+---------------+---------+\n",
              "|       driverID|carPlateNumber| Latitude| Longitude|Speed|Direction|siteName|               Time|isRapidlySpeedup|isRapidlySlowdown|isNeutralSlide|isNeutralSlideFinished|neutralSlideTime|isOverspeed|isOverspeedFinished|overspeedTime|isFatigueDriving|isHthrottleStop|isOilLeak|\n",
              "+---------------+--------------+---------+----------+-----+---------+--------+-------------------+----------------+-----------------+--------------+----------------------+----------------+-----------+-------------------+-------------+----------------+---------------+---------+\n",
              "|   likun1000003|      华AVM936|32.056444|118.777589|   72|      211|        |2017-01-01 08:00:05|                |                 |              |                      |                |           |                   |             |               1|               |         |\n",
              "|  haowei1000008|      华A709GB|  30.6786|104.070835|  143|      115|        |2017-01-01 08:00:08|                |                 |              |                      |                |          1|                   |             |                |               |         |\n",
              "|  haowei1000008|      华A709GB|  30.6786|104.070835|  120|      115|        |2017-01-01 08:00:08|                |                 |              |                      |                |           |                  1|            0|                |               |         |\n",
              "|   zouan1000007|      华A58M83|28.210856|112.979521|  139|      177|        |2017-01-01 08:00:12|                |                 |              |                      |                |          1|                   |             |                |               |         |\n",
              "|    duxu1000009|      华AT75H8|38.500677|106.210269|  137|      118|        |2017-01-01 08:00:13|                |                 |              |                      |                |          1|                   |             |                |               |         |\n",
              "|    duxu1000009|      华AT75H8|38.500517|106.210581|  120|      118|        |2017-01-01 08:00:14|                |                 |              |                      |                |           |                  1|            1|                |               |         |\n",
              "|   zouan1000007|      华A58M83|28.207153| 112.97976|  131|      177|        |2017-01-01 08:00:24|                |                1|              |                      |                |           |                   |             |                |               |         |\n",
              "|  haowei1000008|      华A709GB|30.675895|104.076702|  130|      115|        |2017-01-01 08:00:29|                |                 |              |                      |                |          1|                   |             |                |               |         |\n",
              "|  haowei1000008|      华A709GB|30.675895|104.076702|  120|      115|        |2017-01-01 08:00:29|                |                 |              |                      |                |           |                  1|            0|                |               |         |\n",
              "|    duxu1000009|      华AT75H8|38.498514|106.214488|  105|      118|        |2017-01-01 08:00:29|                |                 |              |                      |                |           |                   |             |                |              1|         |\n",
              "|  hanhui1000002|      华AZI419|28.221289| 112.98163|   62|       16|        |2017-01-01 08:00:32|               1|                 |              |                      |                |           |                   |             |                |               |         |\n",
              "| panxian1000005|      华AX542C|23.127264|113.307184|   94|      357|        |2017-01-01 08:00:33|                |                 |              |                      |                |           |                   |             |               1|               |         |\n",
              "|  hanhui1000002|      华AZI419|28.222767|112.982061|  121|       16|        |2017-01-01 08:00:37|                |                 |              |                      |                |          1|                   |             |                |               |         |\n",
              "|  hanhui1000002|      华AZI419|28.224605|112.982597|  120|       16|        |2017-01-01 08:00:43|                |                 |              |                      |                |           |                  1|            6|                |               |         |\n",
              "|   zouan1000007|      华A58M83|28.200475|112.980191|  120|      177|        |2017-01-01 08:00:45|                |                 |              |                      |                |           |                  1|           33|                |               |         |\n",
              "| panxian1000005|      华AX542C|23.132181|113.306867|  103|      357|        |2017-01-01 08:00:55|                |                 |              |                      |                |           |                   |             |                |               |        1|\n",
              "|   zouan1000007|      华A58M83|28.196079|112.980474|  139|      177|        |2017-01-01 08:01:03|                |                 |              |                      |                |          1|                   |             |                |               |         |\n",
              "|shenxian1000004|      华ADJ750|30.693879|104.062545|   95|      339|        |2017-01-01 08:01:04|               1|                 |              |                      |                |           |                   |             |                |               |         |\n",
              "|  hanhui1000002|      华AZI419|28.228417|112.983708|   66|       16|        |2017-01-01 08:01:05|                |                1|              |                      |                |           |                   |             |                |               |         |\n",
              "|  hanhui1000002|      华AZI419|28.228705|112.983793|  119|       16|        |2017-01-01 08:01:06|                |                1|              |                      |                |           |                   |             |                |               |         |\n",
              "+---------------+--------------+---------+----------+-----+---------+--------+-------------------+----------------+-----------------+--------------+----------------------+----------------+-----------+-------------------+-------------+----------------+---------------+---------+\n",
              "only showing top 20 rows"
            ]
          },
          "execution_count": 14,
          "metadata": {},
          "output_type": "execute_result"
        }
      ],
      "source": [
        "# apply the schema to the RDD\n",
        "dataframe = sqlContext.createDataFrame(column_data,schema)\n",
        "dataframe"
      ]
    },
    {
      "cell_type": "code",
      "execution_count": 15,
      "metadata": {
        "colab": {
          "base_uri": "https://localhost:8080/",
          "height": 876
        },
        "id": "VlCWvIkVXtXF",
        "outputId": "e15f331e-8330-4737-df0b-d9b396ab37bc"
      },
      "outputs": [
        {
          "data": {
            "text/html": [
              "<table border='1'>\n",
              "<tr><th>driverID</th><th>carPlateNumber</th><th>Latitude</th><th>Longitude</th><th>Speed</th><th>Direction</th><th>siteName</th><th>Time</th><th>isRapidlySpeedup</th><th>isRapidlySlowdown</th><th>isNeutralSlide</th><th>isNeutralSlideFinished</th><th>neutralSlideTime</th><th>isOverspeed</th><th>isOverspeedFinished</th><th>overspeedTime</th><th>isFatigueDriving</th><th>isHthrottleStop</th><th>isOilLeak</th></tr>\n",
              "<tr><td>likun1000003</td><td>华AVM936</td><td>32.056444</td><td>118.777589</td><td>72</td><td>211</td><td></td><td>2017-01-01 08:00:05</td><td></td><td></td><td></td><td></td><td></td><td></td><td></td><td></td><td>1</td><td></td><td></td></tr>\n",
              "<tr><td>haowei1000008</td><td>华A709GB</td><td>30.6786</td><td>104.070835</td><td>143</td><td>115</td><td></td><td>2017-01-01 08:00:08</td><td></td><td></td><td></td><td></td><td></td><td>1</td><td></td><td></td><td></td><td></td><td></td></tr>\n",
              "<tr><td>haowei1000008</td><td>华A709GB</td><td>30.6786</td><td>104.070835</td><td>120</td><td>115</td><td></td><td>2017-01-01 08:00:08</td><td></td><td></td><td></td><td></td><td></td><td></td><td>1</td><td>0</td><td></td><td></td><td></td></tr>\n",
              "<tr><td>zouan1000007</td><td>华A58M83</td><td>28.210856</td><td>112.979521</td><td>139</td><td>177</td><td></td><td>2017-01-01 08:00:12</td><td></td><td></td><td></td><td></td><td></td><td>1</td><td></td><td></td><td></td><td></td><td></td></tr>\n",
              "<tr><td>duxu1000009</td><td>华AT75H8</td><td>38.500677</td><td>106.210269</td><td>137</td><td>118</td><td></td><td>2017-01-01 08:00:13</td><td></td><td></td><td></td><td></td><td></td><td>1</td><td></td><td></td><td></td><td></td><td></td></tr>\n",
              "<tr><td>duxu1000009</td><td>华AT75H8</td><td>38.500517</td><td>106.210581</td><td>120</td><td>118</td><td></td><td>2017-01-01 08:00:14</td><td></td><td></td><td></td><td></td><td></td><td></td><td>1</td><td>1</td><td></td><td></td><td></td></tr>\n",
              "<tr><td>zouan1000007</td><td>华A58M83</td><td>28.207153</td><td>112.97976</td><td>131</td><td>177</td><td></td><td>2017-01-01 08:00:24</td><td></td><td>1</td><td></td><td></td><td></td><td></td><td></td><td></td><td></td><td></td><td></td></tr>\n",
              "<tr><td>haowei1000008</td><td>华A709GB</td><td>30.675895</td><td>104.076702</td><td>130</td><td>115</td><td></td><td>2017-01-01 08:00:29</td><td></td><td></td><td></td><td></td><td></td><td>1</td><td></td><td></td><td></td><td></td><td></td></tr>\n",
              "<tr><td>haowei1000008</td><td>华A709GB</td><td>30.675895</td><td>104.076702</td><td>120</td><td>115</td><td></td><td>2017-01-01 08:00:29</td><td></td><td></td><td></td><td></td><td></td><td></td><td>1</td><td>0</td><td></td><td></td><td></td></tr>\n",
              "<tr><td>duxu1000009</td><td>华AT75H8</td><td>38.498514</td><td>106.214488</td><td>105</td><td>118</td><td></td><td>2017-01-01 08:00:29</td><td></td><td></td><td></td><td></td><td></td><td></td><td></td><td></td><td></td><td>1</td><td></td></tr>\n",
              "<tr><td>hanhui1000002</td><td>华AZI419</td><td>28.221289</td><td>112.98163</td><td>62</td><td>16</td><td></td><td>2017-01-01 08:00:32</td><td>1</td><td></td><td></td><td></td><td></td><td></td><td></td><td></td><td></td><td></td><td></td></tr>\n",
              "<tr><td>panxian1000005</td><td>华AX542C</td><td>23.127264</td><td>113.307184</td><td>94</td><td>357</td><td></td><td>2017-01-01 08:00:33</td><td></td><td></td><td></td><td></td><td></td><td></td><td></td><td></td><td>1</td><td></td><td></td></tr>\n",
              "<tr><td>hanhui1000002</td><td>华AZI419</td><td>28.222767</td><td>112.982061</td><td>121</td><td>16</td><td></td><td>2017-01-01 08:00:37</td><td></td><td></td><td></td><td></td><td></td><td>1</td><td></td><td></td><td></td><td></td><td></td></tr>\n",
              "<tr><td>hanhui1000002</td><td>华AZI419</td><td>28.224605</td><td>112.982597</td><td>120</td><td>16</td><td></td><td>2017-01-01 08:00:43</td><td></td><td></td><td></td><td></td><td></td><td></td><td>1</td><td>6</td><td></td><td></td><td></td></tr>\n",
              "<tr><td>zouan1000007</td><td>华A58M83</td><td>28.200475</td><td>112.980191</td><td>120</td><td>177</td><td></td><td>2017-01-01 08:00:45</td><td></td><td></td><td></td><td></td><td></td><td></td><td>1</td><td>33</td><td></td><td></td><td></td></tr>\n",
              "<tr><td>panxian1000005</td><td>华AX542C</td><td>23.132181</td><td>113.306867</td><td>103</td><td>357</td><td></td><td>2017-01-01 08:00:55</td><td></td><td></td><td></td><td></td><td></td><td></td><td></td><td></td><td></td><td></td><td>1</td></tr>\n",
              "<tr><td>zouan1000007</td><td>华A58M83</td><td>28.196079</td><td>112.980474</td><td>139</td><td>177</td><td></td><td>2017-01-01 08:01:03</td><td></td><td></td><td></td><td></td><td></td><td>1</td><td></td><td></td><td></td><td></td><td></td></tr>\n",
              "<tr><td>shenxian1000004</td><td>华ADJ750</td><td>30.693879</td><td>104.062545</td><td>95</td><td>339</td><td></td><td>2017-01-01 08:01:04</td><td>1</td><td></td><td></td><td></td><td></td><td></td><td></td><td></td><td></td><td></td><td></td></tr>\n",
              "<tr><td>hanhui1000002</td><td>华AZI419</td><td>28.228417</td><td>112.983708</td><td>66</td><td>16</td><td></td><td>2017-01-01 08:01:05</td><td></td><td>1</td><td></td><td></td><td></td><td></td><td></td><td></td><td></td><td></td><td></td></tr>\n",
              "<tr><td>hanhui1000002</td><td>华AZI419</td><td>28.228705</td><td>112.983793</td><td>119</td><td>16</td><td></td><td>2017-01-01 08:01:06</td><td></td><td>1</td><td></td><td></td><td></td><td></td><td></td><td></td><td></td><td></td><td></td></tr>\n",
              "</table>\n",
              "only showing top 20 rows\n"
            ],
            "text/plain": [
              "DataFrame[driverID: string, carPlateNumber: string, Latitude: string, Longitude: string, Speed: string, Direction: string, siteName: string, Time: string, isRapidlySpeedup: string, isRapidlySlowdown: string, isNeutralSlide: string, isNeutralSlideFinished: string, neutralSlideTime: string, isOverspeed: string, isOverspeedFinished: string, overspeedTime: string, isFatigueDriving: string, isHthrottleStop: string, isOilLeak: string]"
            ]
          },
          "execution_count": 15,
          "metadata": {},
          "output_type": "execute_result"
        }
      ],
      "source": [
        "# register the DataFrame as a table. (summary)\n",
        "dataframe.registerTempTable(\"summary\")\n",
        "dataframe"
      ]
    },
    {
      "cell_type": "code",
      "execution_count": 16,
      "metadata": {
        "colab": {
          "base_uri": "https://localhost:8080/",
          "height": 913
        },
        "id": "S58J8j4zXx_6",
        "outputId": "86d39b72-dd3a-42a0-e273-46a7953b3a8c"
      },
      "outputs": [
        {
          "data": {
            "text/html": [
              "<table border='1'>\n",
              "<tr><th>first(driverID)</th><th>first(carPlateNumber)</th><th>recordDAY</th><th>recordHOUR</th><th>sum(CAST(isRapidlySpeedup AS DOUBLE))</th><th>sum(CAST(isRapidlySlowdown AS DOUBLE))</th><th>sum(CAST(isNeutralSlide AS DOUBLE))</th><th>sum(CAST(isNeutralSlideFinished AS DOUBLE))</th><th>sum(CAST(neutralSlideTime AS DOUBLE))</th><th>sum(CAST(isOverspeed AS DOUBLE))</th><th>sum(CAST(isOverspeedFinished AS DOUBLE))</th><th>sum(CAST(overspeedTime AS DOUBLE))</th><th>sum(CAST(isFatigueDriving AS DOUBLE))</th><th>sum(CAST(isHthrottleStop AS DOUBLE))</th><th>sum(CAST(isOilLeak AS DOUBLE))</th></tr>\n",
              "<tr><td>likun1000003</td><td>华AVM936</td><td>2017-01-02 23:00:28</td><td>23</td><td>3.0</td><td>3.0</td><td>1.0</td><td>1.0</td><td>32.0</td><td>36.0</td><td>36.0</td><td>441.0</td><td>41.0</td><td>3.0</td><td>9.0</td></tr>\n",
              "<tr><td>shenxian1000004</td><td>华ADJ750</td><td>2017-01-06 08:01:38</td><td>8</td><td>4.0</td><td>1.0</td><td>7.0</td><td>7.0</td><td>72.0</td><td>33.0</td><td>33.0</td><td>314.0</td><td>37.0</td><td>1.0</td><td>7.0</td></tr>\n",
              "<tr><td>xiexiao1000001</td><td>华AEB132</td><td>2017-01-09 03:01:09</td><td>3</td><td>1.0</td><td>4.0</td><td>5.0</td><td>5.0</td><td>28.0</td><td>33.0</td><td>33.0</td><td>275.0</td><td>41.0</td><td>2.0</td><td>4.0</td></tr>\n",
              "<tr><td>xiezhi1000006</td><td>华A6CU11</td><td>2017-01-07 06:00:35</td><td>6</td><td>4.0</td><td>10.0</td><td>2.0</td><td>2.0</td><td>36.0</td><td>34.0</td><td>35.0</td><td>428.0</td><td>35.0</td><td>8.0</td><td>4.0</td></tr>\n",
              "<tr><td>shenxian1000004</td><td>华ADJ750</td><td>2017-01-03 18:04:16</td><td>18</td><td>3.0</td><td>6.0</td><td>4.0</td><td>4.0</td><td>41.0</td><td>31.0</td><td>31.0</td><td>265.0</td><td>24.0</td><td>4.0</td><td>8.0</td></tr>\n",
              "<tr><td>xiexiao1000001</td><td>华AEB132</td><td>2017-01-09 02:00:36</td><td>2</td><td>5.0</td><td>4.0</td><td>3.0</td><td>3.0</td><td>21.0</td><td>33.0</td><td>33.0</td><td>311.0</td><td>42.0</td><td>2.0</td><td>2.0</td></tr>\n",
              "<tr><td>zengpeng1000000</td><td>华AZQ110</td><td>2017-01-08 21:01:08</td><td>21</td><td>4.0</td><td>2.0</td><td>4.0</td><td>4.0</td><td>57.0</td><td>34.0</td><td>34.0</td><td>304.0</td><td>35.0</td><td>4.0</td><td>2.0</td></tr>\n",
              "<tr><td>zouan1000007</td><td>华A58M83</td><td>2017-01-10 05:01:25</td><td>5</td><td>2.0</td><td>5.0</td><td>3.0</td><td>3.0</td><td>13.0</td><td>41.0</td><td>41.0</td><td>475.0</td><td>34.0</td><td>3.0</td><td>3.0</td></tr>\n",
              "<tr><td>shenxian1000004</td><td>华ADJ750</td><td>2017-01-08 20:00:36</td><td>20</td><td>6.0</td><td>4.0</td><td>1.0</td><td>1.0</td><td>0.0</td><td>30.0</td><td>31.0</td><td>405.0</td><td>32.0</td><td>6.0</td><td>5.0</td></tr>\n",
              "<tr><td>xiexiao1000001</td><td>华AEB132</td><td>2017-01-05 16:00:30</td><td>16</td><td>3.0</td><td>7.0</td><td>3.0</td><td>3.0</td><td>24.0</td><td>31.0</td><td>31.0</td><td>270.0</td><td>42.0</td><td>3.0</td><td>4.0</td></tr>\n",
              "<tr><td>likun1000003</td><td>华AVM936</td><td>2017-01-08 16:03:06</td><td>16</td><td>2.0</td><td>3.0</td><td>1.0</td><td>1.0</td><td>7.0</td><td>32.0</td><td>32.0</td><td>361.0</td><td>33.0</td><td>1.0</td><td>3.0</td></tr>\n",
              "<tr><td>panxian1000005</td><td>华AX542C</td><td>2017-01-10 23:00:06</td><td>23</td><td>2.0</td><td>3.0</td><td>5.0</td><td>5.0</td><td>14.0</td><td>35.0</td><td>35.0</td><td>273.0</td><td>35.0</td><td>4.0</td><td>1.0</td></tr>\n",
              "<tr><td>shenxian1000004</td><td>华ADJ750</td><td>2017-01-09 18:02:22</td><td>18</td><td>5.0</td><td>8.0</td><td>4.0</td><td>4.0</td><td>9.0</td><td>28.0</td><td>28.0</td><td>311.0</td><td>43.0</td><td>6.0</td><td>1.0</td></tr>\n",
              "<tr><td>shenxian1000004</td><td>华ADJ750</td><td>2017-01-10 17:00:50</td><td>17</td><td>2.0</td><td>3.0</td><td>null</td><td>null</td><td>null</td><td>33.0</td><td>33.0</td><td>330.0</td><td>30.0</td><td>5.0</td><td>4.0</td></tr>\n",
              "<tr><td>zouan1000007</td><td>华A58M83</td><td>2017-01-09 16:00:17</td><td>16</td><td>6.0</td><td>5.0</td><td>4.0</td><td>4.0</td><td>17.0</td><td>29.0</td><td>29.0</td><td>278.0</td><td>50.0</td><td>5.0</td><td>2.0</td></tr>\n",
              "<tr><td>duxu1000009</td><td>华AT75H8</td><td>2017-01-01 17:01:06</td><td>17</td><td>3.0</td><td>2.0</td><td>3.0</td><td>3.0</td><td>43.0</td><td>42.0</td><td>42.0</td><td>307.0</td><td>46.0</td><td>4.0</td><td>2.0</td></tr>\n",
              "<tr><td>panxian1000005</td><td>华AX542C</td><td>2017-01-09 23:00:41</td><td>23</td><td>4.0</td><td>2.0</td><td>5.0</td><td>5.0</td><td>93.0</td><td>36.0</td><td>36.0</td><td>371.0</td><td>40.0</td><td>4.0</td><td>4.0</td></tr>\n",
              "<tr><td>xiezhi1000006</td><td>华A6CU11</td><td>2017-01-04 03:01:21</td><td>3</td><td>4.0</td><td>5.0</td><td>2.0</td><td>2.0</td><td>18.0</td><td>40.0</td><td>40.0</td><td>517.0</td><td>49.0</td><td>1.0</td><td>3.0</td></tr>\n",
              "<tr><td>zouan1000007</td><td>华A58M83</td><td>2017-01-05 16:00:32</td><td>16</td><td>7.0</td><td>6.0</td><td>4.0</td><td>4.0</td><td>39.0</td><td>34.0</td><td>34.0</td><td>426.0</td><td>43.0</td><td>3.0</td><td>6.0</td></tr>\n",
              "<tr><td>hanhui1000002</td><td>华AZI419</td><td>2017-01-08 23:00:03</td><td>23</td><td>null</td><td>3.0</td><td>4.0</td><td>4.0</td><td>14.0</td><td>29.0</td><td>29.0</td><td>264.0</td><td>36.0</td><td>4.0</td><td>3.0</td></tr>\n",
              "</table>\n",
              "only showing top 20 rows\n"
            ],
            "text/plain": [
              "+---------------+---------------------+-------------------+----------+-------------------------------------+--------------------------------------+-----------------------------------+-------------------------------------------+-------------------------------------+--------------------------------+----------------------------------------+----------------------------------+-------------------------------------+------------------------------------+------------------------------+\n",
              "|first(driverID)|first(carPlateNumber)|          recordDAY|recordHOUR|sum(CAST(isRapidlySpeedup AS DOUBLE))|sum(CAST(isRapidlySlowdown AS DOUBLE))|sum(CAST(isNeutralSlide AS DOUBLE))|sum(CAST(isNeutralSlideFinished AS DOUBLE))|sum(CAST(neutralSlideTime AS DOUBLE))|sum(CAST(isOverspeed AS DOUBLE))|sum(CAST(isOverspeedFinished AS DOUBLE))|sum(CAST(overspeedTime AS DOUBLE))|sum(CAST(isFatigueDriving AS DOUBLE))|sum(CAST(isHthrottleStop AS DOUBLE))|sum(CAST(isOilLeak AS DOUBLE))|\n",
              "+---------------+---------------------+-------------------+----------+-------------------------------------+--------------------------------------+-----------------------------------+-------------------------------------------+-------------------------------------+--------------------------------+----------------------------------------+----------------------------------+-------------------------------------+------------------------------------+------------------------------+\n",
              "|   likun1000003|             华AVM936|2017-01-02 23:00:28|        23|                                  3.0|                                   3.0|                                1.0|                                        1.0|                                 32.0|                            36.0|                                    36.0|                             441.0|                                 41.0|                                 3.0|                           9.0|\n",
              "|shenxian1000004|             华ADJ750|2017-01-06 08:01:38|         8|                                  4.0|                                   1.0|                                7.0|                                        7.0|                                 72.0|                            33.0|                                    33.0|                             314.0|                                 37.0|                                 1.0|                           7.0|\n",
              "| xiexiao1000001|             华AEB132|2017-01-09 03:01:09|         3|                                  1.0|                                   4.0|                                5.0|                                        5.0|                                 28.0|                            33.0|                                    33.0|                             275.0|                                 41.0|                                 2.0|                           4.0|\n",
              "|  xiezhi1000006|             华A6CU11|2017-01-07 06:00:35|         6|                                  4.0|                                  10.0|                                2.0|                                        2.0|                                 36.0|                            34.0|                                    35.0|                             428.0|                                 35.0|                                 8.0|                           4.0|\n",
              "|shenxian1000004|             华ADJ750|2017-01-03 18:04:16|        18|                                  3.0|                                   6.0|                                4.0|                                        4.0|                                 41.0|                            31.0|                                    31.0|                             265.0|                                 24.0|                                 4.0|                           8.0|\n",
              "| xiexiao1000001|             华AEB132|2017-01-09 02:00:36|         2|                                  5.0|                                   4.0|                                3.0|                                        3.0|                                 21.0|                            33.0|                                    33.0|                             311.0|                                 42.0|                                 2.0|                           2.0|\n",
              "|zengpeng1000000|             华AZQ110|2017-01-08 21:01:08|        21|                                  4.0|                                   2.0|                                4.0|                                        4.0|                                 57.0|                            34.0|                                    34.0|                             304.0|                                 35.0|                                 4.0|                           2.0|\n",
              "|   zouan1000007|             华A58M83|2017-01-10 05:01:25|         5|                                  2.0|                                   5.0|                                3.0|                                        3.0|                                 13.0|                            41.0|                                    41.0|                             475.0|                                 34.0|                                 3.0|                           3.0|\n",
              "|shenxian1000004|             华ADJ750|2017-01-08 20:00:36|        20|                                  6.0|                                   4.0|                                1.0|                                        1.0|                                  0.0|                            30.0|                                    31.0|                             405.0|                                 32.0|                                 6.0|                           5.0|\n",
              "| xiexiao1000001|             华AEB132|2017-01-05 16:00:30|        16|                                  3.0|                                   7.0|                                3.0|                                        3.0|                                 24.0|                            31.0|                                    31.0|                             270.0|                                 42.0|                                 3.0|                           4.0|\n",
              "|   likun1000003|             华AVM936|2017-01-08 16:03:06|        16|                                  2.0|                                   3.0|                                1.0|                                        1.0|                                  7.0|                            32.0|                                    32.0|                             361.0|                                 33.0|                                 1.0|                           3.0|\n",
              "| panxian1000005|             华AX542C|2017-01-10 23:00:06|        23|                                  2.0|                                   3.0|                                5.0|                                        5.0|                                 14.0|                            35.0|                                    35.0|                             273.0|                                 35.0|                                 4.0|                           1.0|\n",
              "|shenxian1000004|             华ADJ750|2017-01-09 18:02:22|        18|                                  5.0|                                   8.0|                                4.0|                                        4.0|                                  9.0|                            28.0|                                    28.0|                             311.0|                                 43.0|                                 6.0|                           1.0|\n",
              "|shenxian1000004|             华ADJ750|2017-01-10 17:00:50|        17|                                  2.0|                                   3.0|                               null|                                       null|                                 null|                            33.0|                                    33.0|                             330.0|                                 30.0|                                 5.0|                           4.0|\n",
              "|   zouan1000007|             华A58M83|2017-01-09 16:00:17|        16|                                  6.0|                                   5.0|                                4.0|                                        4.0|                                 17.0|                            29.0|                                    29.0|                             278.0|                                 50.0|                                 5.0|                           2.0|\n",
              "|    duxu1000009|             华AT75H8|2017-01-01 17:01:06|        17|                                  3.0|                                   2.0|                                3.0|                                        3.0|                                 43.0|                            42.0|                                    42.0|                             307.0|                                 46.0|                                 4.0|                           2.0|\n",
              "| panxian1000005|             华AX542C|2017-01-09 23:00:41|        23|                                  4.0|                                   2.0|                                5.0|                                        5.0|                                 93.0|                            36.0|                                    36.0|                             371.0|                                 40.0|                                 4.0|                           4.0|\n",
              "|  xiezhi1000006|             华A6CU11|2017-01-04 03:01:21|         3|                                  4.0|                                   5.0|                                2.0|                                        2.0|                                 18.0|                            40.0|                                    40.0|                             517.0|                                 49.0|                                 1.0|                           3.0|\n",
              "|   zouan1000007|             华A58M83|2017-01-05 16:00:32|        16|                                  7.0|                                   6.0|                                4.0|                                        4.0|                                 39.0|                            34.0|                                    34.0|                             426.0|                                 43.0|                                 3.0|                           6.0|\n",
              "|  hanhui1000002|             华AZI419|2017-01-08 23:00:03|        23|                                 null|                                   3.0|                                4.0|                                        4.0|                                 14.0|                            29.0|                                    29.0|                             264.0|                                 36.0|                                 4.0|                           3.0|\n",
              "+---------------+---------------------+-------------------+----------+-------------------------------------+--------------------------------------+-----------------------------------+-------------------------------------------+-------------------------------------+--------------------------------+----------------------------------------+----------------------------------+-------------------------------------+------------------------------------+------------------------------+\n",
              "only showing top 20 rows"
            ]
          },
          "execution_count": 16,
          "metadata": {},
          "output_type": "execute_result"
        }
      ],
      "source": [
        "# execute the sql\n",
        "group_data = sqlContext.sql(sql)\n",
        "group_data"
      ]
    },
    {
      "cell_type": "code",
      "execution_count": 18,
      "metadata": {
        "id": "Q1z7lK48BFr4"
      },
      "outputs": [],
      "source": [
        "# save the data\n",
        "group_data.coalesce(1).write.csv(out, mode=\"overwrite\")"
      ]
    }
  ],
  "metadata": {
    "colab": {
      "collapsed_sections": [],
      "name": "spark_colab.ipynb",
      "provenance": []
    },
    "kernelspec": {
      "display_name": "Python 3",
      "name": "python3"
    },
    "language_info": {
      "name": "python"
    }
  },
  "nbformat": 4,
  "nbformat_minor": 0
}
