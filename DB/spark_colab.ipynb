{
  "cells": [
    {
      "cell_type": "code",
      "execution_count": 133,
      "metadata": {
        "id": "4JRsdwQBrK9Q"
      },
      "outputs": [],
      "source": [
        "# SETUP CODE\n",
        "!apt-get install openjdk-8-jdk-headless -qq > /dev/null\n",
        "!wget -q http://archive.apache.org/dist/spark/spark-3.1.1/spark-3.1.1-bin-hadoop3.2.tgz\n",
        "!tar xf spark-3.1.1-bin-hadoop3.2.tgz\n",
        "!pip install -q findspark"
      ]
    },
    {
      "cell_type": "code",
      "execution_count": 134,
      "metadata": {
        "id": "IEv-xC7SrXPk"
      },
      "outputs": [],
      "source": [
        "# SETUP CODE\n",
        "import os\n",
        "os.environ[\"JAVA_HOME\"] = \"/usr/lib/jvm/java-8-openjdk-amd64\"\n",
        "os.environ[\"SPARK_HOME\"] = \"/content/spark-3.1.1-bin-hadoop3.2\""
      ]
    },
    {
      "cell_type": "code",
      "execution_count": 135,
      "metadata": {
        "id": "ziSzm8YxrbSw"
      },
      "outputs": [],
      "source": [
        "# SETUP CODE\n",
        "import findspark\n",
        "findspark.init()\n",
        "from pyspark.sql import SparkSession\n",
        "spark = SparkSession.builder.master(\"local[*]\").getOrCreate()\n",
        "spark.conf.set(\"spark.sql.repl.eagerEval.enabled\", True) # Property used to format output tables better\n",
        "spark\n",
        "sc = spark.sparkContext"
      ]
    },
    {
      "cell_type": "code",
      "execution_count": 136,
      "metadata": {
        "colab": {
          "base_uri": "https://localhost:8080/"
        },
        "id": "oHnaKL83Hpmu",
        "outputId": "5697eb77-0608-4dbc-b520-b690facf776f"
      },
      "outputs": [
        {
          "name": "stdout",
          "output_type": "stream",
          "text": [
            "Drive already mounted at /content/drive; to attempt to forcibly remount, call drive.mount(\"/content/drive\", force_remount=True).\n"
          ]
        }
      ],
      "source": [
        "# MOUNT Google Drive\n",
        "from google.colab import drive\n",
        "drive.mount('/content/drive')"
      ]
    },
    {
      "cell_type": "code",
      "execution_count": 137,
      "metadata": {
        "id": "_DnjmJp1WUJ2"
      },
      "outputs": [],
      "source": [
        "#TEST code\n",
        "from pyspark import SparkContext, SQLContext, Row\n",
        "from pyspark.sql.types import *\n",
        "from pyspark.sql.functions import lit\n",
        "sqlContext = SQLContext(sc)\n",
        "#put data in a folder call csvdata\n",
        "input = \"/content/drive/MyDrive/csvdata/detail_record_2017_01_02_08_00_00\"\n",
        "text_file = sc.textFile(input)\n"
      ]
    },
    {
      "cell_type": "code",
      "execution_count": 141,
      "metadata": {
        "id": "4lqy5WquWwf4"
      },
      "outputs": [],
      "source": [
        "#TEST code\n",
        "counts = text_file.map(lambda line: line.split(\",\")).filter(lambda line: len(line)>8)\n",
        "column_data = counts.map(lambda p: Row(p[0], p[1], p[2], p[3], p[4], \\\n",
        "                      p[5], p[6], p[7], p[8], p[9] , \\\n",
        "                      p[10], p[11], p[12], p[13], p[14], \\\n",
        "                      p[15], p[16], p[17], p[18]))\n",
        "\n",
        "column_name = \"driverID,carPlateNumber,Latitude,Longitude,Speed,Direction,siteName,Time,isRapidlySpeedup,isRapidlySlowdown,isNeutralSlide,isNeutralSlideFinished,neutralSlideTime,isOverspeed,isOverspeedFinished,overspeedTime,isFatigueDriving,isHthrottleStop,isOilLeak\"\n",
        "sql = \"SELECT first(recordID),first(driverID),first(carPlateNumber),first(Time) \\\n",
        "                              as recordDAY,HOUR(Time) as recordHOUR,\\\n",
        "                              sum(isRapidlySpeedup),sum(isRapidlySlowdown),sum(isNeutralSlide),sum(isNeutralSlideFinished),\\\n",
        "                              sum(neutralSlideTime),sum(isOverspeed),sum(isOverspeedFinished),sum(overspeedTime),sum(isFatigueDriving),\\\n",
        "                              sum(isHthrottleStop),sum(isOilLeak) \\\n",
        "                              FROM summary \\\n",
        "                              GROUP BY driverID,DAY(Time),HOUR(Time)\"\n",
        "fields = [StructField(field_name, StringType(), True) for field_name in column_name.split(\",\")]\n",
        "schema = StructType(fields)\n"
      ]
    },
    {
      "cell_type": "code",
      "execution_count": 142,
      "metadata": {
        "colab": {
          "base_uri": "https://localhost:8080/",
          "height": 529
        },
        "id": "ynWddqeVXfyg",
        "outputId": "0f201187-844f-4a88-aa1c-5268e7f0d5e4"
      },
      "outputs": [
        {
          "data": {
            "text/html": [
              "<table border='1'>\n",
              "<tr><th>driverID</th><th>carPlateNumber</th><th>Latitude</th><th>Longitude</th><th>Speed</th><th>Direction</th><th>siteName</th><th>Time</th><th>isRapidlySpeedup</th><th>isRapidlySlowdown</th><th>isNeutralSlide</th><th>isNeutralSlideFinished</th><th>neutralSlideTime</th><th>isOverspeed</th><th>isOverspeedFinished</th><th>overspeedTime</th><th>isFatigueDriving</th><th>isHthrottleStop</th><th>isOilLeak</th></tr>\n",
              "<tr><td>likun1000003</td><td>华AVM936</td><td>32.056444</td><td>118.777589</td><td>72</td><td>211</td><td></td><td>2017-01-01 08:00:05</td><td></td><td></td><td></td><td></td><td></td><td></td><td></td><td></td><td>1</td><td></td><td></td></tr>\n",
              "<tr><td>haowei1000008</td><td>华A709GB</td><td>30.6786</td><td>104.070835</td><td>143</td><td>115</td><td></td><td>2017-01-01 08:00:08</td><td></td><td></td><td></td><td></td><td></td><td>1</td><td></td><td></td><td></td><td></td><td></td></tr>\n",
              "<tr><td>haowei1000008</td><td>华A709GB</td><td>30.6786</td><td>104.070835</td><td>120</td><td>115</td><td></td><td>2017-01-01 08:00:08</td><td></td><td></td><td></td><td></td><td></td><td></td><td>1</td><td>0</td><td></td><td></td><td></td></tr>\n",
              "<tr><td>zouan1000007</td><td>华A58M83</td><td>28.210856</td><td>112.979521</td><td>139</td><td>177</td><td></td><td>2017-01-01 08:00:12</td><td></td><td></td><td></td><td></td><td></td><td>1</td><td></td><td></td><td></td><td></td><td></td></tr>\n",
              "<tr><td>duxu1000009</td><td>华AT75H8</td><td>38.500677</td><td>106.210269</td><td>137</td><td>118</td><td></td><td>2017-01-01 08:00:13</td><td></td><td></td><td></td><td></td><td></td><td>1</td><td></td><td></td><td></td><td></td><td></td></tr>\n",
              "<tr><td>duxu1000009</td><td>华AT75H8</td><td>38.500517</td><td>106.210581</td><td>120</td><td>118</td><td></td><td>2017-01-01 08:00:14</td><td></td><td></td><td></td><td></td><td></td><td></td><td>1</td><td>1</td><td></td><td></td><td></td></tr>\n",
              "<tr><td>zouan1000007</td><td>华A58M83</td><td>28.207153</td><td>112.97976</td><td>131</td><td>177</td><td></td><td>2017-01-01 08:00:24</td><td></td><td>1</td><td></td><td></td><td></td><td></td><td></td><td></td><td></td><td></td><td></td></tr>\n",
              "<tr><td>haowei1000008</td><td>华A709GB</td><td>30.675895</td><td>104.076702</td><td>130</td><td>115</td><td></td><td>2017-01-01 08:00:29</td><td></td><td></td><td></td><td></td><td></td><td>1</td><td></td><td></td><td></td><td></td><td></td></tr>\n",
              "<tr><td>haowei1000008</td><td>华A709GB</td><td>30.675895</td><td>104.076702</td><td>120</td><td>115</td><td></td><td>2017-01-01 08:00:29</td><td></td><td></td><td></td><td></td><td></td><td></td><td>1</td><td>0</td><td></td><td></td><td></td></tr>\n",
              "<tr><td>duxu1000009</td><td>华AT75H8</td><td>38.498514</td><td>106.214488</td><td>105</td><td>118</td><td></td><td>2017-01-01 08:00:29</td><td></td><td></td><td></td><td></td><td></td><td></td><td></td><td></td><td></td><td>1</td><td></td></tr>\n",
              "<tr><td>hanhui1000002</td><td>华AZI419</td><td>28.221289</td><td>112.98163</td><td>62</td><td>16</td><td></td><td>2017-01-01 08:00:32</td><td>1</td><td></td><td></td><td></td><td></td><td></td><td></td><td></td><td></td><td></td><td></td></tr>\n",
              "<tr><td>panxian1000005</td><td>华AX542C</td><td>23.127264</td><td>113.307184</td><td>94</td><td>357</td><td></td><td>2017-01-01 08:00:33</td><td></td><td></td><td></td><td></td><td></td><td></td><td></td><td></td><td>1</td><td></td><td></td></tr>\n",
              "<tr><td>hanhui1000002</td><td>华AZI419</td><td>28.222767</td><td>112.982061</td><td>121</td><td>16</td><td></td><td>2017-01-01 08:00:37</td><td></td><td></td><td></td><td></td><td></td><td>1</td><td></td><td></td><td></td><td></td><td></td></tr>\n",
              "<tr><td>hanhui1000002</td><td>华AZI419</td><td>28.224605</td><td>112.982597</td><td>120</td><td>16</td><td></td><td>2017-01-01 08:00:43</td><td></td><td></td><td></td><td></td><td></td><td></td><td>1</td><td>6</td><td></td><td></td><td></td></tr>\n",
              "<tr><td>zouan1000007</td><td>华A58M83</td><td>28.200475</td><td>112.980191</td><td>120</td><td>177</td><td></td><td>2017-01-01 08:00:45</td><td></td><td></td><td></td><td></td><td></td><td></td><td>1</td><td>33</td><td></td><td></td><td></td></tr>\n",
              "<tr><td>panxian1000005</td><td>华AX542C</td><td>23.132181</td><td>113.306867</td><td>103</td><td>357</td><td></td><td>2017-01-01 08:00:55</td><td></td><td></td><td></td><td></td><td></td><td></td><td></td><td></td><td></td><td></td><td>1</td></tr>\n",
              "<tr><td>zouan1000007</td><td>华A58M83</td><td>28.196079</td><td>112.980474</td><td>139</td><td>177</td><td></td><td>2017-01-01 08:01:03</td><td></td><td></td><td></td><td></td><td></td><td>1</td><td></td><td></td><td></td><td></td><td></td></tr>\n",
              "<tr><td>shenxian1000004</td><td>华ADJ750</td><td>30.693879</td><td>104.062545</td><td>95</td><td>339</td><td></td><td>2017-01-01 08:01:04</td><td>1</td><td></td><td></td><td></td><td></td><td></td><td></td><td></td><td></td><td></td><td></td></tr>\n",
              "<tr><td>hanhui1000002</td><td>华AZI419</td><td>28.228417</td><td>112.983708</td><td>66</td><td>16</td><td></td><td>2017-01-01 08:01:05</td><td></td><td>1</td><td></td><td></td><td></td><td></td><td></td><td></td><td></td><td></td><td></td></tr>\n",
              "<tr><td>hanhui1000002</td><td>华AZI419</td><td>28.228705</td><td>112.983793</td><td>119</td><td>16</td><td></td><td>2017-01-01 08:01:06</td><td></td><td>1</td><td></td><td></td><td></td><td></td><td></td><td></td><td></td><td></td><td></td></tr>\n",
              "</table>\n",
              "only showing top 20 rows\n"
            ],
            "text/plain": [
              "+---------------+--------------+---------+----------+-----+---------+--------+-------------------+----------------+-----------------+--------------+----------------------+----------------+-----------+-------------------+-------------+----------------+---------------+---------+\n",
              "|       driverID|carPlateNumber| Latitude| Longitude|Speed|Direction|siteName|               Time|isRapidlySpeedup|isRapidlySlowdown|isNeutralSlide|isNeutralSlideFinished|neutralSlideTime|isOverspeed|isOverspeedFinished|overspeedTime|isFatigueDriving|isHthrottleStop|isOilLeak|\n",
              "+---------------+--------------+---------+----------+-----+---------+--------+-------------------+----------------+-----------------+--------------+----------------------+----------------+-----------+-------------------+-------------+----------------+---------------+---------+\n",
              "|   likun1000003|      华AVM936|32.056444|118.777589|   72|      211|        |2017-01-01 08:00:05|                |                 |              |                      |                |           |                   |             |               1|               |         |\n",
              "|  haowei1000008|      华A709GB|  30.6786|104.070835|  143|      115|        |2017-01-01 08:00:08|                |                 |              |                      |                |          1|                   |             |                |               |         |\n",
              "|  haowei1000008|      华A709GB|  30.6786|104.070835|  120|      115|        |2017-01-01 08:00:08|                |                 |              |                      |                |           |                  1|            0|                |               |         |\n",
              "|   zouan1000007|      华A58M83|28.210856|112.979521|  139|      177|        |2017-01-01 08:00:12|                |                 |              |                      |                |          1|                   |             |                |               |         |\n",
              "|    duxu1000009|      华AT75H8|38.500677|106.210269|  137|      118|        |2017-01-01 08:00:13|                |                 |              |                      |                |          1|                   |             |                |               |         |\n",
              "|    duxu1000009|      华AT75H8|38.500517|106.210581|  120|      118|        |2017-01-01 08:00:14|                |                 |              |                      |                |           |                  1|            1|                |               |         |\n",
              "|   zouan1000007|      华A58M83|28.207153| 112.97976|  131|      177|        |2017-01-01 08:00:24|                |                1|              |                      |                |           |                   |             |                |               |         |\n",
              "|  haowei1000008|      华A709GB|30.675895|104.076702|  130|      115|        |2017-01-01 08:00:29|                |                 |              |                      |                |          1|                   |             |                |               |         |\n",
              "|  haowei1000008|      华A709GB|30.675895|104.076702|  120|      115|        |2017-01-01 08:00:29|                |                 |              |                      |                |           |                  1|            0|                |               |         |\n",
              "|    duxu1000009|      华AT75H8|38.498514|106.214488|  105|      118|        |2017-01-01 08:00:29|                |                 |              |                      |                |           |                   |             |                |              1|         |\n",
              "|  hanhui1000002|      华AZI419|28.221289| 112.98163|   62|       16|        |2017-01-01 08:00:32|               1|                 |              |                      |                |           |                   |             |                |               |         |\n",
              "| panxian1000005|      华AX542C|23.127264|113.307184|   94|      357|        |2017-01-01 08:00:33|                |                 |              |                      |                |           |                   |             |               1|               |         |\n",
              "|  hanhui1000002|      华AZI419|28.222767|112.982061|  121|       16|        |2017-01-01 08:00:37|                |                 |              |                      |                |          1|                   |             |                |               |         |\n",
              "|  hanhui1000002|      华AZI419|28.224605|112.982597|  120|       16|        |2017-01-01 08:00:43|                |                 |              |                      |                |           |                  1|            6|                |               |         |\n",
              "|   zouan1000007|      华A58M83|28.200475|112.980191|  120|      177|        |2017-01-01 08:00:45|                |                 |              |                      |                |           |                  1|           33|                |               |         |\n",
              "| panxian1000005|      华AX542C|23.132181|113.306867|  103|      357|        |2017-01-01 08:00:55|                |                 |              |                      |                |           |                   |             |                |               |        1|\n",
              "|   zouan1000007|      华A58M83|28.196079|112.980474|  139|      177|        |2017-01-01 08:01:03|                |                 |              |                      |                |          1|                   |             |                |               |         |\n",
              "|shenxian1000004|      华ADJ750|30.693879|104.062545|   95|      339|        |2017-01-01 08:01:04|               1|                 |              |                      |                |           |                   |             |                |               |         |\n",
              "|  hanhui1000002|      华AZI419|28.228417|112.983708|   66|       16|        |2017-01-01 08:01:05|                |                1|              |                      |                |           |                   |             |                |               |         |\n",
              "|  hanhui1000002|      华AZI419|28.228705|112.983793|  119|       16|        |2017-01-01 08:01:06|                |                1|              |                      |                |           |                   |             |                |               |         |\n",
              "+---------------+--------------+---------+----------+-----+---------+--------+-------------------+----------------+-----------------+--------------+----------------------+----------------+-----------+-------------------+-------------+----------------+---------------+---------+\n",
              "only showing top 20 rows"
            ]
          },
          "execution_count": 142,
          "metadata": {},
          "output_type": "execute_result"
        }
      ],
      "source": [
        "#TEST code\n",
        "dataframe = sqlContext.createDataFrame(column_data,schema)\n",
        "dataframe"
      ]
    },
    {
      "cell_type": "code",
      "execution_count": 143,
      "metadata": {
        "colab": {
          "base_uri": "https://localhost:8080/",
          "height": 529
        },
        "id": "huwFNzYMXkP6",
        "outputId": "623d47d8-53a8-4e9c-c30c-b1eb0efb24e1"
      },
      "outputs": [
        {
          "data": {
            "text/html": [
              "<table border='1'>\n",
              "<tr><th>driverID</th><th>carPlateNumber</th><th>Latitude</th><th>Longitude</th><th>Speed</th><th>Direction</th><th>siteName</th><th>Time</th><th>isRapidlySpeedup</th><th>isRapidlySlowdown</th><th>isNeutralSlide</th><th>isNeutralSlideFinished</th><th>neutralSlideTime</th><th>isOverspeed</th><th>isOverspeedFinished</th><th>overspeedTime</th><th>isFatigueDriving</th><th>isHthrottleStop</th><th>isOilLeak</th><th>recordID</th></tr>\n",
              "<tr><td>likun1000003</td><td>华AVM936</td><td>32.056444</td><td>118.777589</td><td>72</td><td>211</td><td></td><td>2017-01-01 08:00:05</td><td></td><td></td><td></td><td></td><td></td><td></td><td></td><td></td><td>1</td><td></td><td></td><td>/content/drive/My...</td></tr>\n",
              "<tr><td>haowei1000008</td><td>华A709GB</td><td>30.6786</td><td>104.070835</td><td>143</td><td>115</td><td></td><td>2017-01-01 08:00:08</td><td></td><td></td><td></td><td></td><td></td><td>1</td><td></td><td></td><td></td><td></td><td></td><td>/content/drive/My...</td></tr>\n",
              "<tr><td>haowei1000008</td><td>华A709GB</td><td>30.6786</td><td>104.070835</td><td>120</td><td>115</td><td></td><td>2017-01-01 08:00:08</td><td></td><td></td><td></td><td></td><td></td><td></td><td>1</td><td>0</td><td></td><td></td><td></td><td>/content/drive/My...</td></tr>\n",
              "<tr><td>zouan1000007</td><td>华A58M83</td><td>28.210856</td><td>112.979521</td><td>139</td><td>177</td><td></td><td>2017-01-01 08:00:12</td><td></td><td></td><td></td><td></td><td></td><td>1</td><td></td><td></td><td></td><td></td><td></td><td>/content/drive/My...</td></tr>\n",
              "<tr><td>duxu1000009</td><td>华AT75H8</td><td>38.500677</td><td>106.210269</td><td>137</td><td>118</td><td></td><td>2017-01-01 08:00:13</td><td></td><td></td><td></td><td></td><td></td><td>1</td><td></td><td></td><td></td><td></td><td></td><td>/content/drive/My...</td></tr>\n",
              "<tr><td>duxu1000009</td><td>华AT75H8</td><td>38.500517</td><td>106.210581</td><td>120</td><td>118</td><td></td><td>2017-01-01 08:00:14</td><td></td><td></td><td></td><td></td><td></td><td></td><td>1</td><td>1</td><td></td><td></td><td></td><td>/content/drive/My...</td></tr>\n",
              "<tr><td>zouan1000007</td><td>华A58M83</td><td>28.207153</td><td>112.97976</td><td>131</td><td>177</td><td></td><td>2017-01-01 08:00:24</td><td></td><td>1</td><td></td><td></td><td></td><td></td><td></td><td></td><td></td><td></td><td></td><td>/content/drive/My...</td></tr>\n",
              "<tr><td>haowei1000008</td><td>华A709GB</td><td>30.675895</td><td>104.076702</td><td>130</td><td>115</td><td></td><td>2017-01-01 08:00:29</td><td></td><td></td><td></td><td></td><td></td><td>1</td><td></td><td></td><td></td><td></td><td></td><td>/content/drive/My...</td></tr>\n",
              "<tr><td>haowei1000008</td><td>华A709GB</td><td>30.675895</td><td>104.076702</td><td>120</td><td>115</td><td></td><td>2017-01-01 08:00:29</td><td></td><td></td><td></td><td></td><td></td><td></td><td>1</td><td>0</td><td></td><td></td><td></td><td>/content/drive/My...</td></tr>\n",
              "<tr><td>duxu1000009</td><td>华AT75H8</td><td>38.498514</td><td>106.214488</td><td>105</td><td>118</td><td></td><td>2017-01-01 08:00:29</td><td></td><td></td><td></td><td></td><td></td><td></td><td></td><td></td><td></td><td>1</td><td></td><td>/content/drive/My...</td></tr>\n",
              "<tr><td>hanhui1000002</td><td>华AZI419</td><td>28.221289</td><td>112.98163</td><td>62</td><td>16</td><td></td><td>2017-01-01 08:00:32</td><td>1</td><td></td><td></td><td></td><td></td><td></td><td></td><td></td><td></td><td></td><td></td><td>/content/drive/My...</td></tr>\n",
              "<tr><td>panxian1000005</td><td>华AX542C</td><td>23.127264</td><td>113.307184</td><td>94</td><td>357</td><td></td><td>2017-01-01 08:00:33</td><td></td><td></td><td></td><td></td><td></td><td></td><td></td><td></td><td>1</td><td></td><td></td><td>/content/drive/My...</td></tr>\n",
              "<tr><td>hanhui1000002</td><td>华AZI419</td><td>28.222767</td><td>112.982061</td><td>121</td><td>16</td><td></td><td>2017-01-01 08:00:37</td><td></td><td></td><td></td><td></td><td></td><td>1</td><td></td><td></td><td></td><td></td><td></td><td>/content/drive/My...</td></tr>\n",
              "<tr><td>hanhui1000002</td><td>华AZI419</td><td>28.224605</td><td>112.982597</td><td>120</td><td>16</td><td></td><td>2017-01-01 08:00:43</td><td></td><td></td><td></td><td></td><td></td><td></td><td>1</td><td>6</td><td></td><td></td><td></td><td>/content/drive/My...</td></tr>\n",
              "<tr><td>zouan1000007</td><td>华A58M83</td><td>28.200475</td><td>112.980191</td><td>120</td><td>177</td><td></td><td>2017-01-01 08:00:45</td><td></td><td></td><td></td><td></td><td></td><td></td><td>1</td><td>33</td><td></td><td></td><td></td><td>/content/drive/My...</td></tr>\n",
              "<tr><td>panxian1000005</td><td>华AX542C</td><td>23.132181</td><td>113.306867</td><td>103</td><td>357</td><td></td><td>2017-01-01 08:00:55</td><td></td><td></td><td></td><td></td><td></td><td></td><td></td><td></td><td></td><td></td><td>1</td><td>/content/drive/My...</td></tr>\n",
              "<tr><td>zouan1000007</td><td>华A58M83</td><td>28.196079</td><td>112.980474</td><td>139</td><td>177</td><td></td><td>2017-01-01 08:01:03</td><td></td><td></td><td></td><td></td><td></td><td>1</td><td></td><td></td><td></td><td></td><td></td><td>/content/drive/My...</td></tr>\n",
              "<tr><td>shenxian1000004</td><td>华ADJ750</td><td>30.693879</td><td>104.062545</td><td>95</td><td>339</td><td></td><td>2017-01-01 08:01:04</td><td>1</td><td></td><td></td><td></td><td></td><td></td><td></td><td></td><td></td><td></td><td></td><td>/content/drive/My...</td></tr>\n",
              "<tr><td>hanhui1000002</td><td>华AZI419</td><td>28.228417</td><td>112.983708</td><td>66</td><td>16</td><td></td><td>2017-01-01 08:01:05</td><td></td><td>1</td><td></td><td></td><td></td><td></td><td></td><td></td><td></td><td></td><td></td><td>/content/drive/My...</td></tr>\n",
              "<tr><td>hanhui1000002</td><td>华AZI419</td><td>28.228705</td><td>112.983793</td><td>119</td><td>16</td><td></td><td>2017-01-01 08:01:06</td><td></td><td>1</td><td></td><td></td><td></td><td></td><td></td><td></td><td></td><td></td><td></td><td>/content/drive/My...</td></tr>\n",
              "</table>\n",
              "only showing top 20 rows\n"
            ],
            "text/plain": [
              "+---------------+--------------+---------+----------+-----+---------+--------+-------------------+----------------+-----------------+--------------+----------------------+----------------+-----------+-------------------+-------------+----------------+---------------+---------+--------------------+\n",
              "|       driverID|carPlateNumber| Latitude| Longitude|Speed|Direction|siteName|               Time|isRapidlySpeedup|isRapidlySlowdown|isNeutralSlide|isNeutralSlideFinished|neutralSlideTime|isOverspeed|isOverspeedFinished|overspeedTime|isFatigueDriving|isHthrottleStop|isOilLeak|            recordID|\n",
              "+---------------+--------------+---------+----------+-----+---------+--------+-------------------+----------------+-----------------+--------------+----------------------+----------------+-----------+-------------------+-------------+----------------+---------------+---------+--------------------+\n",
              "|   likun1000003|      华AVM936|32.056444|118.777589|   72|      211|        |2017-01-01 08:00:05|                |                 |              |                      |                |           |                   |             |               1|               |         |/content/drive/My...|\n",
              "|  haowei1000008|      华A709GB|  30.6786|104.070835|  143|      115|        |2017-01-01 08:00:08|                |                 |              |                      |                |          1|                   |             |                |               |         |/content/drive/My...|\n",
              "|  haowei1000008|      华A709GB|  30.6786|104.070835|  120|      115|        |2017-01-01 08:00:08|                |                 |              |                      |                |           |                  1|            0|                |               |         |/content/drive/My...|\n",
              "|   zouan1000007|      华A58M83|28.210856|112.979521|  139|      177|        |2017-01-01 08:00:12|                |                 |              |                      |                |          1|                   |             |                |               |         |/content/drive/My...|\n",
              "|    duxu1000009|      华AT75H8|38.500677|106.210269|  137|      118|        |2017-01-01 08:00:13|                |                 |              |                      |                |          1|                   |             |                |               |         |/content/drive/My...|\n",
              "|    duxu1000009|      华AT75H8|38.500517|106.210581|  120|      118|        |2017-01-01 08:00:14|                |                 |              |                      |                |           |                  1|            1|                |               |         |/content/drive/My...|\n",
              "|   zouan1000007|      华A58M83|28.207153| 112.97976|  131|      177|        |2017-01-01 08:00:24|                |                1|              |                      |                |           |                   |             |                |               |         |/content/drive/My...|\n",
              "|  haowei1000008|      华A709GB|30.675895|104.076702|  130|      115|        |2017-01-01 08:00:29|                |                 |              |                      |                |          1|                   |             |                |               |         |/content/drive/My...|\n",
              "|  haowei1000008|      华A709GB|30.675895|104.076702|  120|      115|        |2017-01-01 08:00:29|                |                 |              |                      |                |           |                  1|            0|                |               |         |/content/drive/My...|\n",
              "|    duxu1000009|      华AT75H8|38.498514|106.214488|  105|      118|        |2017-01-01 08:00:29|                |                 |              |                      |                |           |                   |             |                |              1|         |/content/drive/My...|\n",
              "|  hanhui1000002|      华AZI419|28.221289| 112.98163|   62|       16|        |2017-01-01 08:00:32|               1|                 |              |                      |                |           |                   |             |                |               |         |/content/drive/My...|\n",
              "| panxian1000005|      华AX542C|23.127264|113.307184|   94|      357|        |2017-01-01 08:00:33|                |                 |              |                      |                |           |                   |             |               1|               |         |/content/drive/My...|\n",
              "|  hanhui1000002|      华AZI419|28.222767|112.982061|  121|       16|        |2017-01-01 08:00:37|                |                 |              |                      |                |          1|                   |             |                |               |         |/content/drive/My...|\n",
              "|  hanhui1000002|      华AZI419|28.224605|112.982597|  120|       16|        |2017-01-01 08:00:43|                |                 |              |                      |                |           |                  1|            6|                |               |         |/content/drive/My...|\n",
              "|   zouan1000007|      华A58M83|28.200475|112.980191|  120|      177|        |2017-01-01 08:00:45|                |                 |              |                      |                |           |                  1|           33|                |               |         |/content/drive/My...|\n",
              "| panxian1000005|      华AX542C|23.132181|113.306867|  103|      357|        |2017-01-01 08:00:55|                |                 |              |                      |                |           |                   |             |                |               |        1|/content/drive/My...|\n",
              "|   zouan1000007|      华A58M83|28.196079|112.980474|  139|      177|        |2017-01-01 08:01:03|                |                 |              |                      |                |          1|                   |             |                |               |         |/content/drive/My...|\n",
              "|shenxian1000004|      华ADJ750|30.693879|104.062545|   95|      339|        |2017-01-01 08:01:04|               1|                 |              |                      |                |           |                   |             |                |               |         |/content/drive/My...|\n",
              "|  hanhui1000002|      华AZI419|28.228417|112.983708|   66|       16|        |2017-01-01 08:01:05|                |                1|              |                      |                |           |                   |             |                |               |         |/content/drive/My...|\n",
              "|  hanhui1000002|      华AZI419|28.228705|112.983793|  119|       16|        |2017-01-01 08:01:06|                |                1|              |                      |                |           |                   |             |                |               |         |/content/drive/My...|\n",
              "+---------------+--------------+---------+----------+-----+---------+--------+-------------------+----------------+-----------------+--------------+----------------------+----------------+-----------+-------------------+-------------+----------------+---------------+---------+--------------------+\n",
              "only showing top 20 rows"
            ]
          },
          "execution_count": 143,
          "metadata": {},
          "output_type": "execute_result"
        }
      ],
      "source": [
        "#TEST code\n",
        "dataframe = dataframe.withColumn(\"recordID\",lit(input))\n",
        "dataframe"
      ]
    },
    {
      "cell_type": "code",
      "execution_count": 144,
      "metadata": {
        "colab": {
          "base_uri": "https://localhost:8080/",
          "height": 529
        },
        "id": "VlCWvIkVXtXF",
        "outputId": "ccb9cc95-a623-4aee-9281-30017788f52c"
      },
      "outputs": [
        {
          "data": {
            "text/html": [
              "<table border='1'>\n",
              "<tr><th>driverID</th><th>carPlateNumber</th><th>Latitude</th><th>Longitude</th><th>Speed</th><th>Direction</th><th>siteName</th><th>Time</th><th>isRapidlySpeedup</th><th>isRapidlySlowdown</th><th>isNeutralSlide</th><th>isNeutralSlideFinished</th><th>neutralSlideTime</th><th>isOverspeed</th><th>isOverspeedFinished</th><th>overspeedTime</th><th>isFatigueDriving</th><th>isHthrottleStop</th><th>isOilLeak</th><th>recordID</th></tr>\n",
              "<tr><td>likun1000003</td><td>华AVM936</td><td>32.056444</td><td>118.777589</td><td>72</td><td>211</td><td></td><td>2017-01-01 08:00:05</td><td></td><td></td><td></td><td></td><td></td><td></td><td></td><td></td><td>1</td><td></td><td></td><td>/content/drive/My...</td></tr>\n",
              "<tr><td>haowei1000008</td><td>华A709GB</td><td>30.6786</td><td>104.070835</td><td>143</td><td>115</td><td></td><td>2017-01-01 08:00:08</td><td></td><td></td><td></td><td></td><td></td><td>1</td><td></td><td></td><td></td><td></td><td></td><td>/content/drive/My...</td></tr>\n",
              "<tr><td>haowei1000008</td><td>华A709GB</td><td>30.6786</td><td>104.070835</td><td>120</td><td>115</td><td></td><td>2017-01-01 08:00:08</td><td></td><td></td><td></td><td></td><td></td><td></td><td>1</td><td>0</td><td></td><td></td><td></td><td>/content/drive/My...</td></tr>\n",
              "<tr><td>zouan1000007</td><td>华A58M83</td><td>28.210856</td><td>112.979521</td><td>139</td><td>177</td><td></td><td>2017-01-01 08:00:12</td><td></td><td></td><td></td><td></td><td></td><td>1</td><td></td><td></td><td></td><td></td><td></td><td>/content/drive/My...</td></tr>\n",
              "<tr><td>duxu1000009</td><td>华AT75H8</td><td>38.500677</td><td>106.210269</td><td>137</td><td>118</td><td></td><td>2017-01-01 08:00:13</td><td></td><td></td><td></td><td></td><td></td><td>1</td><td></td><td></td><td></td><td></td><td></td><td>/content/drive/My...</td></tr>\n",
              "<tr><td>duxu1000009</td><td>华AT75H8</td><td>38.500517</td><td>106.210581</td><td>120</td><td>118</td><td></td><td>2017-01-01 08:00:14</td><td></td><td></td><td></td><td></td><td></td><td></td><td>1</td><td>1</td><td></td><td></td><td></td><td>/content/drive/My...</td></tr>\n",
              "<tr><td>zouan1000007</td><td>华A58M83</td><td>28.207153</td><td>112.97976</td><td>131</td><td>177</td><td></td><td>2017-01-01 08:00:24</td><td></td><td>1</td><td></td><td></td><td></td><td></td><td></td><td></td><td></td><td></td><td></td><td>/content/drive/My...</td></tr>\n",
              "<tr><td>haowei1000008</td><td>华A709GB</td><td>30.675895</td><td>104.076702</td><td>130</td><td>115</td><td></td><td>2017-01-01 08:00:29</td><td></td><td></td><td></td><td></td><td></td><td>1</td><td></td><td></td><td></td><td></td><td></td><td>/content/drive/My...</td></tr>\n",
              "<tr><td>haowei1000008</td><td>华A709GB</td><td>30.675895</td><td>104.076702</td><td>120</td><td>115</td><td></td><td>2017-01-01 08:00:29</td><td></td><td></td><td></td><td></td><td></td><td></td><td>1</td><td>0</td><td></td><td></td><td></td><td>/content/drive/My...</td></tr>\n",
              "<tr><td>duxu1000009</td><td>华AT75H8</td><td>38.498514</td><td>106.214488</td><td>105</td><td>118</td><td></td><td>2017-01-01 08:00:29</td><td></td><td></td><td></td><td></td><td></td><td></td><td></td><td></td><td></td><td>1</td><td></td><td>/content/drive/My...</td></tr>\n",
              "<tr><td>hanhui1000002</td><td>华AZI419</td><td>28.221289</td><td>112.98163</td><td>62</td><td>16</td><td></td><td>2017-01-01 08:00:32</td><td>1</td><td></td><td></td><td></td><td></td><td></td><td></td><td></td><td></td><td></td><td></td><td>/content/drive/My...</td></tr>\n",
              "<tr><td>panxian1000005</td><td>华AX542C</td><td>23.127264</td><td>113.307184</td><td>94</td><td>357</td><td></td><td>2017-01-01 08:00:33</td><td></td><td></td><td></td><td></td><td></td><td></td><td></td><td></td><td>1</td><td></td><td></td><td>/content/drive/My...</td></tr>\n",
              "<tr><td>hanhui1000002</td><td>华AZI419</td><td>28.222767</td><td>112.982061</td><td>121</td><td>16</td><td></td><td>2017-01-01 08:00:37</td><td></td><td></td><td></td><td></td><td></td><td>1</td><td></td><td></td><td></td><td></td><td></td><td>/content/drive/My...</td></tr>\n",
              "<tr><td>hanhui1000002</td><td>华AZI419</td><td>28.224605</td><td>112.982597</td><td>120</td><td>16</td><td></td><td>2017-01-01 08:00:43</td><td></td><td></td><td></td><td></td><td></td><td></td><td>1</td><td>6</td><td></td><td></td><td></td><td>/content/drive/My...</td></tr>\n",
              "<tr><td>zouan1000007</td><td>华A58M83</td><td>28.200475</td><td>112.980191</td><td>120</td><td>177</td><td></td><td>2017-01-01 08:00:45</td><td></td><td></td><td></td><td></td><td></td><td></td><td>1</td><td>33</td><td></td><td></td><td></td><td>/content/drive/My...</td></tr>\n",
              "<tr><td>panxian1000005</td><td>华AX542C</td><td>23.132181</td><td>113.306867</td><td>103</td><td>357</td><td></td><td>2017-01-01 08:00:55</td><td></td><td></td><td></td><td></td><td></td><td></td><td></td><td></td><td></td><td></td><td>1</td><td>/content/drive/My...</td></tr>\n",
              "<tr><td>zouan1000007</td><td>华A58M83</td><td>28.196079</td><td>112.980474</td><td>139</td><td>177</td><td></td><td>2017-01-01 08:01:03</td><td></td><td></td><td></td><td></td><td></td><td>1</td><td></td><td></td><td></td><td></td><td></td><td>/content/drive/My...</td></tr>\n",
              "<tr><td>shenxian1000004</td><td>华ADJ750</td><td>30.693879</td><td>104.062545</td><td>95</td><td>339</td><td></td><td>2017-01-01 08:01:04</td><td>1</td><td></td><td></td><td></td><td></td><td></td><td></td><td></td><td></td><td></td><td></td><td>/content/drive/My...</td></tr>\n",
              "<tr><td>hanhui1000002</td><td>华AZI419</td><td>28.228417</td><td>112.983708</td><td>66</td><td>16</td><td></td><td>2017-01-01 08:01:05</td><td></td><td>1</td><td></td><td></td><td></td><td></td><td></td><td></td><td></td><td></td><td></td><td>/content/drive/My...</td></tr>\n",
              "<tr><td>hanhui1000002</td><td>华AZI419</td><td>28.228705</td><td>112.983793</td><td>119</td><td>16</td><td></td><td>2017-01-01 08:01:06</td><td></td><td>1</td><td></td><td></td><td></td><td></td><td></td><td></td><td></td><td></td><td></td><td>/content/drive/My...</td></tr>\n",
              "</table>\n",
              "only showing top 20 rows\n"
            ],
            "text/plain": [
              "DataFrame[driverID: string, carPlateNumber: string, Latitude: string, Longitude: string, Speed: string, Direction: string, siteName: string, Time: string, isRapidlySpeedup: string, isRapidlySlowdown: string, isNeutralSlide: string, isNeutralSlideFinished: string, neutralSlideTime: string, isOverspeed: string, isOverspeedFinished: string, overspeedTime: string, isFatigueDriving: string, isHthrottleStop: string, isOilLeak: string, recordID: string]"
            ]
          },
          "execution_count": 144,
          "metadata": {},
          "output_type": "execute_result"
        }
      ],
      "source": [
        "#TEST code\n",
        "dataframe.registerTempTable(\"summary\")\n",
        "dataframe"
      ]
    },
    {
      "cell_type": "code",
      "execution_count": 145,
      "metadata": {
        "colab": {
          "base_uri": "https://localhost:8080/",
          "height": 893
        },
        "id": "S58J8j4zXx_6",
        "outputId": "9be1c918-7de1-4aea-d0d0-e16373b40f25"
      },
      "outputs": [
        {
          "data": {
            "text/html": [
              "<table border='1'>\n",
              "<tr><th>first(recordID)</th><th>first(driverID)</th><th>first(carPlateNumber)</th><th>recordDAY</th><th>recordHOUR</th><th>sum(CAST(isRapidlySpeedup AS DOUBLE))</th><th>sum(CAST(isRapidlySlowdown AS DOUBLE))</th><th>sum(CAST(isNeutralSlide AS DOUBLE))</th><th>sum(CAST(isNeutralSlideFinished AS DOUBLE))</th><th>sum(CAST(neutralSlideTime AS DOUBLE))</th><th>sum(CAST(isOverspeed AS DOUBLE))</th><th>sum(CAST(isOverspeedFinished AS DOUBLE))</th><th>sum(CAST(overspeedTime AS DOUBLE))</th><th>sum(CAST(isFatigueDriving AS DOUBLE))</th><th>sum(CAST(isHthrottleStop AS DOUBLE))</th><th>sum(CAST(isOilLeak AS DOUBLE))</th></tr>\n",
              "<tr><td>/content/drive/My...</td><td>duxu1000009</td><td>华AT75H8</td><td>2017-01-01 17:01:06</td><td>17</td><td>3.0</td><td>2.0</td><td>3.0</td><td>3.0</td><td>43.0</td><td>42.0</td><td>42.0</td><td>307.0</td><td>46.0</td><td>4.0</td><td>2.0</td></tr>\n",
              "<tr><td>/content/drive/My...</td><td>zouan1000007</td><td>华A58M83</td><td>2017-01-01 11:00:46</td><td>11</td><td>4.0</td><td>4.0</td><td>2.0</td><td>2.0</td><td>28.0</td><td>40.0</td><td>40.0</td><td>365.0</td><td>42.0</td><td>5.0</td><td>2.0</td></tr>\n",
              "<tr><td>/content/drive/My...</td><td>xiexiao1000001</td><td>华AEB132</td><td>2017-01-01 16:00:20</td><td>16</td><td>1.0</td><td>3.0</td><td>1.0</td><td>1.0</td><td>12.0</td><td>33.0</td><td>33.0</td><td>425.0</td><td>37.0</td><td>4.0</td><td>2.0</td></tr>\n",
              "<tr><td>/content/drive/My...</td><td>shenxian1000004</td><td>华ADJ750</td><td>2017-01-01 10:00:24</td><td>10</td><td>4.0</td><td>4.0</td><td>4.0</td><td>4.0</td><td>37.0</td><td>39.0</td><td>38.0</td><td>301.0</td><td>40.0</td><td>2.0</td><td>4.0</td></tr>\n",
              "<tr><td>/content/drive/My...</td><td>duxu1000009</td><td>华AT75H8</td><td>2017-01-01 09:00:04</td><td>9</td><td>1.0</td><td>4.0</td><td>null</td><td>null</td><td>null</td><td>33.0</td><td>34.0</td><td>304.0</td><td>39.0</td><td>5.0</td><td>2.0</td></tr>\n",
              "<tr><td>/content/drive/My...</td><td>hanhui1000002</td><td>华AZI419</td><td>2017-01-01 08:00:32</td><td>8</td><td>9.0</td><td>5.0</td><td>5.0</td><td>5.0</td><td>19.0</td><td>24.0</td><td>24.0</td><td>342.0</td><td>48.0</td><td>3.0</td><td>2.0</td></tr>\n",
              "<tr><td>/content/drive/My...</td><td>zengpeng1000000</td><td>华AZQ110</td><td>2017-01-01 14:00:06</td><td>14</td><td>5.0</td><td>5.0</td><td>2.0</td><td>2.0</td><td>5.0</td><td>11.0</td><td>11.0</td><td>144.0</td><td>25.0</td><td>2.0</td><td>1.0</td></tr>\n",
              "<tr><td>/content/drive/My...</td><td>panxian1000005</td><td>华AX542C</td><td>2017-01-01 10:00:01</td><td>10</td><td>4.0</td><td>3.0</td><td>3.0</td><td>3.0</td><td>63.0</td><td>32.0</td><td>33.0</td><td>382.0</td><td>56.0</td><td>3.0</td><td>5.0</td></tr>\n",
              "<tr><td>/content/drive/My...</td><td>likun1000003</td><td>华AVM936</td><td>2017-01-01 15:01:42</td><td>15</td><td>4.0</td><td>4.0</td><td>5.0</td><td>5.0</td><td>65.0</td><td>33.0</td><td>33.0</td><td>323.0</td><td>39.0</td><td>3.0</td><td>4.0</td></tr>\n",
              "<tr><td>/content/drive/My...</td><td>likun1000003</td><td>华AVM936</td><td>2017-01-01 17:00:06</td><td>17</td><td>1.0</td><td>4.0</td><td>3.0</td><td>3.0</td><td>50.0</td><td>38.0</td><td>38.0</td><td>364.0</td><td>33.0</td><td>4.0</td><td>3.0</td></tr>\n",
              "<tr><td>/content/drive/My...</td><td>likun1000003</td><td>华AVM936</td><td>2017-01-01 11:00:15</td><td>11</td><td>5.0</td><td>2.0</td><td>1.0</td><td>1.0</td><td>1.0</td><td>33.0</td><td>33.0</td><td>380.0</td><td>29.0</td><td>7.0</td><td>3.0</td></tr>\n",
              "<tr><td>/content/drive/My...</td><td>shenxian1000004</td><td>华ADJ750</td><td>2017-01-01 13:00:32</td><td>13</td><td>4.0</td><td>6.0</td><td>1.0</td><td>1.0</td><td>0.0</td><td>32.0</td><td>32.0</td><td>351.0</td><td>31.0</td><td>6.0</td><td>8.0</td></tr>\n",
              "<tr><td>/content/drive/My...</td><td>zouan1000007</td><td>华A58M83</td><td>2017-01-01 13:00:13</td><td>13</td><td>3.0</td><td>2.0</td><td>1.0</td><td>1.0</td><td>9.0</td><td>37.0</td><td>37.0</td><td>251.0</td><td>37.0</td><td>1.0</td><td>5.0</td></tr>\n",
              "<tr><td>/content/drive/My...</td><td>panxian1000005</td><td>华AX542C</td><td>2017-01-01 12:00:02</td><td>12</td><td>4.0</td><td>7.0</td><td>2.0</td><td>2.0</td><td>20.0</td><td>38.0</td><td>39.0</td><td>390.0</td><td>40.0</td><td>4.0</td><td>2.0</td></tr>\n",
              "<tr><td>/content/drive/My...</td><td>duxu1000009</td><td>华AT75H8</td><td>2017-01-01 21:00:07</td><td>21</td><td>4.0</td><td>2.0</td><td>4.0</td><td>4.0</td><td>64.0</td><td>44.0</td><td>45.0</td><td>462.0</td><td>41.0</td><td>2.0</td><td>3.0</td></tr>\n",
              "<tr><td>/content/drive/My...</td><td>haowei1000008</td><td>华A709GB</td><td>2017-01-01 08:00:08</td><td>8</td><td>1.0</td><td>4.0</td><td>3.0</td><td>3.0</td><td>23.0</td><td>39.0</td><td>39.0</td><td>382.0</td><td>37.0</td><td>6.0</td><td>4.0</td></tr>\n",
              "<tr><td>/content/drive/My...</td><td>duxu1000009</td><td>华AT75H8</td><td>2017-01-01 22:00:08</td><td>22</td><td>3.0</td><td>1.0</td><td>null</td><td>null</td><td>null</td><td>9.0</td><td>9.0</td><td>74.0</td><td>12.0</td><td>1.0</td><td>null</td></tr>\n",
              "<tr><td>/content/drive/My...</td><td>xiexiao1000001</td><td>华AEB132</td><td>2017-01-01 20:00:54</td><td>20</td><td>3.0</td><td>4.0</td><td>2.0</td><td>2.0</td><td>16.0</td><td>35.0</td><td>35.0</td><td>433.0</td><td>30.0</td><td>1.0</td><td>7.0</td></tr>\n",
              "<tr><td>/content/drive/My...</td><td>likun1000003</td><td>华AVM936</td><td>2017-01-01 09:03:14</td><td>9</td><td>2.0</td><td>5.0</td><td>4.0</td><td>4.0</td><td>22.0</td><td>34.0</td><td>34.0</td><td>293.0</td><td>45.0</td><td>1.0</td><td>6.0</td></tr>\n",
              "<tr><td>/content/drive/My...</td><td>duxu1000009</td><td>华AT75H8</td><td>2017-01-01 08:00:13</td><td>8</td><td>2.0</td><td>3.0</td><td>2.0</td><td>2.0</td><td>12.0</td><td>39.0</td><td>38.0</td><td>365.0</td><td>43.0</td><td>4.0</td><td>4.0</td></tr>\n",
              "</table>\n",
              "only showing top 20 rows\n"
            ],
            "text/plain": [
              "+--------------------+---------------+---------------------+-------------------+----------+-------------------------------------+--------------------------------------+-----------------------------------+-------------------------------------------+-------------------------------------+--------------------------------+----------------------------------------+----------------------------------+-------------------------------------+------------------------------------+------------------------------+\n",
              "|     first(recordID)|first(driverID)|first(carPlateNumber)|          recordDAY|recordHOUR|sum(CAST(isRapidlySpeedup AS DOUBLE))|sum(CAST(isRapidlySlowdown AS DOUBLE))|sum(CAST(isNeutralSlide AS DOUBLE))|sum(CAST(isNeutralSlideFinished AS DOUBLE))|sum(CAST(neutralSlideTime AS DOUBLE))|sum(CAST(isOverspeed AS DOUBLE))|sum(CAST(isOverspeedFinished AS DOUBLE))|sum(CAST(overspeedTime AS DOUBLE))|sum(CAST(isFatigueDriving AS DOUBLE))|sum(CAST(isHthrottleStop AS DOUBLE))|sum(CAST(isOilLeak AS DOUBLE))|\n",
              "+--------------------+---------------+---------------------+-------------------+----------+-------------------------------------+--------------------------------------+-----------------------------------+-------------------------------------------+-------------------------------------+--------------------------------+----------------------------------------+----------------------------------+-------------------------------------+------------------------------------+------------------------------+\n",
              "|/content/drive/My...|    duxu1000009|             华AT75H8|2017-01-01 17:01:06|        17|                                  3.0|                                   2.0|                                3.0|                                        3.0|                                 43.0|                            42.0|                                    42.0|                             307.0|                                 46.0|                                 4.0|                           2.0|\n",
              "|/content/drive/My...|   zouan1000007|             华A58M83|2017-01-01 11:00:46|        11|                                  4.0|                                   4.0|                                2.0|                                        2.0|                                 28.0|                            40.0|                                    40.0|                             365.0|                                 42.0|                                 5.0|                           2.0|\n",
              "|/content/drive/My...| xiexiao1000001|             华AEB132|2017-01-01 16:00:20|        16|                                  1.0|                                   3.0|                                1.0|                                        1.0|                                 12.0|                            33.0|                                    33.0|                             425.0|                                 37.0|                                 4.0|                           2.0|\n",
              "|/content/drive/My...|shenxian1000004|             华ADJ750|2017-01-01 10:00:24|        10|                                  4.0|                                   4.0|                                4.0|                                        4.0|                                 37.0|                            39.0|                                    38.0|                             301.0|                                 40.0|                                 2.0|                           4.0|\n",
              "|/content/drive/My...|    duxu1000009|             华AT75H8|2017-01-01 09:00:04|         9|                                  1.0|                                   4.0|                               null|                                       null|                                 null|                            33.0|                                    34.0|                             304.0|                                 39.0|                                 5.0|                           2.0|\n",
              "|/content/drive/My...|  hanhui1000002|             华AZI419|2017-01-01 08:00:32|         8|                                  9.0|                                   5.0|                                5.0|                                        5.0|                                 19.0|                            24.0|                                    24.0|                             342.0|                                 48.0|                                 3.0|                           2.0|\n",
              "|/content/drive/My...|zengpeng1000000|             华AZQ110|2017-01-01 14:00:06|        14|                                  5.0|                                   5.0|                                2.0|                                        2.0|                                  5.0|                            11.0|                                    11.0|                             144.0|                                 25.0|                                 2.0|                           1.0|\n",
              "|/content/drive/My...| panxian1000005|             华AX542C|2017-01-01 10:00:01|        10|                                  4.0|                                   3.0|                                3.0|                                        3.0|                                 63.0|                            32.0|                                    33.0|                             382.0|                                 56.0|                                 3.0|                           5.0|\n",
              "|/content/drive/My...|   likun1000003|             华AVM936|2017-01-01 15:01:42|        15|                                  4.0|                                   4.0|                                5.0|                                        5.0|                                 65.0|                            33.0|                                    33.0|                             323.0|                                 39.0|                                 3.0|                           4.0|\n",
              "|/content/drive/My...|   likun1000003|             华AVM936|2017-01-01 17:00:06|        17|                                  1.0|                                   4.0|                                3.0|                                        3.0|                                 50.0|                            38.0|                                    38.0|                             364.0|                                 33.0|                                 4.0|                           3.0|\n",
              "|/content/drive/My...|   likun1000003|             华AVM936|2017-01-01 11:00:15|        11|                                  5.0|                                   2.0|                                1.0|                                        1.0|                                  1.0|                            33.0|                                    33.0|                             380.0|                                 29.0|                                 7.0|                           3.0|\n",
              "|/content/drive/My...|shenxian1000004|             华ADJ750|2017-01-01 13:00:32|        13|                                  4.0|                                   6.0|                                1.0|                                        1.0|                                  0.0|                            32.0|                                    32.0|                             351.0|                                 31.0|                                 6.0|                           8.0|\n",
              "|/content/drive/My...|   zouan1000007|             华A58M83|2017-01-01 13:00:13|        13|                                  3.0|                                   2.0|                                1.0|                                        1.0|                                  9.0|                            37.0|                                    37.0|                             251.0|                                 37.0|                                 1.0|                           5.0|\n",
              "|/content/drive/My...| panxian1000005|             华AX542C|2017-01-01 12:00:02|        12|                                  4.0|                                   7.0|                                2.0|                                        2.0|                                 20.0|                            38.0|                                    39.0|                             390.0|                                 40.0|                                 4.0|                           2.0|\n",
              "|/content/drive/My...|    duxu1000009|             华AT75H8|2017-01-01 21:00:07|        21|                                  4.0|                                   2.0|                                4.0|                                        4.0|                                 64.0|                            44.0|                                    45.0|                             462.0|                                 41.0|                                 2.0|                           3.0|\n",
              "|/content/drive/My...|  haowei1000008|             华A709GB|2017-01-01 08:00:08|         8|                                  1.0|                                   4.0|                                3.0|                                        3.0|                                 23.0|                            39.0|                                    39.0|                             382.0|                                 37.0|                                 6.0|                           4.0|\n",
              "|/content/drive/My...|    duxu1000009|             华AT75H8|2017-01-01 22:00:08|        22|                                  3.0|                                   1.0|                               null|                                       null|                                 null|                             9.0|                                     9.0|                              74.0|                                 12.0|                                 1.0|                          null|\n",
              "|/content/drive/My...| xiexiao1000001|             华AEB132|2017-01-01 20:00:54|        20|                                  3.0|                                   4.0|                                2.0|                                        2.0|                                 16.0|                            35.0|                                    35.0|                             433.0|                                 30.0|                                 1.0|                           7.0|\n",
              "|/content/drive/My...|   likun1000003|             华AVM936|2017-01-01 09:03:14|         9|                                  2.0|                                   5.0|                                4.0|                                        4.0|                                 22.0|                            34.0|                                    34.0|                             293.0|                                 45.0|                                 1.0|                           6.0|\n",
              "|/content/drive/My...|    duxu1000009|             华AT75H8|2017-01-01 08:00:13|         8|                                  2.0|                                   3.0|                                2.0|                                        2.0|                                 12.0|                            39.0|                                    38.0|                             365.0|                                 43.0|                                 4.0|                           4.0|\n",
              "+--------------------+---------------+---------------------+-------------------+----------+-------------------------------------+--------------------------------------+-----------------------------------+-------------------------------------------+-------------------------------------+--------------------------------+----------------------------------------+----------------------------------+-------------------------------------+------------------------------------+------------------------------+\n",
              "only showing top 20 rows"
            ]
          },
          "execution_count": 145,
          "metadata": {},
          "output_type": "execute_result"
        }
      ],
      "source": [
        "#TEST code\n",
        "group_data = sqlContext.sql(sql)\n",
        "group_data"
      ]
    },
    {
      "cell_type": "code",
      "execution_count": null,
      "metadata": {
        "colab": {
          "base_uri": "https://localhost:8080/"
        },
        "id": "3gX0g1BxFTuj",
        "outputId": "a80f2f11-1fae-42d8-f7b3-b039b98006f3"
      },
      "outputs": [
        {
          "name": "stdout",
          "output_type": "stream",
          "text": [
            "['/content/drive/MyDrive/csvdata/detail_record_2017_01_02_08_00_00', '/content/drive/MyDrive/csvdata/detail_record_2017_01_03_08_00_00', '/content/drive/MyDrive/csvdata/detail_record_2017_01_04_08_00_00', '/content/drive/MyDrive/csvdata/detail_record_2017_01_05_08_00_00', '/content/drive/MyDrive/csvdata/detail_record_2017_01_06_08_00_00', '/content/drive/MyDrive/csvdata/detail_record_2017_01_07_08_00_00', '/content/drive/MyDrive/csvdata/detail_record_2017_01_08_08_00_00', '/content/drive/MyDrive/csvdata/detail_record_2017_01_09_08_00_00', '/content/drive/MyDrive/csvdata/detail_record_2017_01_10_08_00_00', '/content/drive/MyDrive/csvdata/detail_record_2017_01_11_08_00_00']\n"
          ]
        }
      ],
      "source": [
        "# MAIN CODE, for loop to get all data path\n",
        "# example inp and out\n",
        "# s3://comp4442-group-project/data/\n",
        "# s3://comp4442-group-project/output\n",
        "\n",
        "import os\n",
        "import sys\n",
        "\n",
        "\n",
        "from pyspark import SparkContext, SQLContext, Row\n",
        "from pyspark.sql.types import *\n",
        "from pyspark.sql.functions import lit\n",
        "\n",
        "# args = sys.argv\n",
        "# inp = args[1]\n",
        "# out = args[2]\n",
        "\n",
        "sqlContext = SQLContext(sc)\n",
        "\n",
        "inputList = []\n",
        "for i in range(2,12):\n",
        "  index = 0\n",
        "  if i < 10:\n",
        "    index = \"0\" + str(i)\n",
        "  else:\n",
        "    index = i\n",
        "\n",
        "  inputList.append(f\"/content/drive/MyDrive/csvdata/detail_record_2017_01_{index}_08_00_00\")\n",
        "\n",
        "# text_file = sc.textFile(inp)\n",
        "print(inputList)\n",
        "\n",
        "\n",
        "\n",
        "            "
      ]
    },
    {
      "cell_type": "code",
      "execution_count": null,
      "metadata": {
        "id": "H0oVE4HIFbw7"
      },
      "outputs": [],
      "source": [
        "# MAIN CODE, for loop to do spark to all data and save to csv\n",
        "for i ,input in enumerate(inputList):\n",
        "  text_file = sc.textFile(input)\n",
        "  # split each line into a list of fields\n",
        "  # only count the lines that have at least 9 fields, ignore the case that is no special behavior\n",
        "  counts = text_file.map(lambda line: line.split(\",\")).filter(lambda line: len(line)>8)\n",
        "\n",
        "\n",
        "  column_data = counts.map(lambda p: Row(p[0], p[1], p[2], p[3], p[4], \\\n",
        "                                      p[5], p[6], p[7], p[8], p[9] , \\\n",
        "                                      p[10], p[11], p[12], p[13], p[14], \\\n",
        "                                      p[15], p[16], p[17], p[18]))\n",
        "\n",
        "\n",
        "  column_name = \"driverID,carPlateNumber,Latitude,Longitude,Speed,Direction,siteName,Time,isRapidlySpeedup,isRapidlySlowdown,isNeutralSlide,isNeutralSlideFinished,neutralSlideTime,isOverspeed,isOverspeedFinished,overspeedTime,isFatigueDriving,isHthrottleStop,isOilLeak\"\n",
        "  sql = \"SELECT first(recordID),first(driverID),first(carPlateNumber),first(Time) \\\n",
        "                              as recordDAY,HOUR(Time) as recordHOUR,\\\n",
        "                              sum(isRapidlySpeedup),sum(isRapidlySlowdown),sum(isNeutralSlide),sum(isNeutralSlideFinished),\\\n",
        "                              sum(neutralSlideTime),sum(isOverspeed),sum(isOverspeedFinished),sum(overspeedTime),sum(isFatigueDriving),\\\n",
        "                              sum(isHthrottleStop),sum(isOilLeak) \\\n",
        "                              FROM summary \\\n",
        "                              GROUP BY driverID,DAY(Time),HOUR(Time)\"\n",
        "\n",
        "  # create schema with the column names\n",
        "  fields = [StructField(field_name, StringType(), True) for field_name in column_name.split(\",\")]\n",
        "  schema = StructType(fields)\n",
        "\n",
        "  # apply the schema to the RDD\n",
        "  dataframe = sqlContext.createDataFrame(column_data,schema)\n",
        "  # add the recordID to store where these record come from\n",
        "  dataframe = dataframe.withColumn(\"recordID\",lit(input))\n",
        "  # register the DataFrame as a table.\n",
        "  dataframe.registerTempTable(\"summary\")\n",
        "\n",
        "  # execute the SQL query and save the result to the output directory\n",
        "  group_data = sqlContext.sql(sql)\n",
        "  group_data.coalesce(1).write.csv(\"/content/drive/MyDrive/csvdata/data\"+str(i))\n",
        "\n",
        "sc.stop()"
      ]
    }
  ],
  "metadata": {
    "colab": {
      "collapsed_sections": [],
      "name": "spark_colab.ipynb",
      "provenance": []
    },
    "kernelspec": {
      "display_name": "Python 3",
      "name": "python3"
    },
    "language_info": {
      "name": "python"
    }
  },
  "nbformat": 4,
  "nbformat_minor": 0
}
